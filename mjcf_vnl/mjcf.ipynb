{
 "cells": [
  {
   "cell_type": "code",
   "execution_count": 6,
   "metadata": {},
   "outputs": [
    {
     "name": "stderr",
     "output_type": "stream",
     "text": [
      "/home/scotty/.local/lib/python3.10/site-packages/glfw/__init__.py:916: GLFWError: (65544) b'X11: The DISPLAY environment variable is missing'\n",
      "  warnings.warn(message, GLFWError)\n"
     ]
    }
   ],
   "source": [
    "import rodent\n",
    "from brax.io import mjcf as mjcf_brax\n",
    "from dm_control import mjcf as mjcf_dm\n",
    "import mujoco"
   ]
  },
  {
   "cell_type": "code",
   "execution_count": 7,
   "metadata": {},
   "outputs": [],
   "source": [
    "from dm_control import mujoco as mujoco_dm"
   ]
  },
  {
   "cell_type": "markdown",
   "metadata": {},
   "source": [
    "## Adapt the MJCF in brax and in dm_control\n",
    "\n",
    "> TODO: We can adapt the `rodent.py`'s mjcf system to brax, to allow it to interact with the brax system.\n",
    "\n",
    "- The MJCF in brax is pretty bare-bone, and only support loading the xml output form the mjcf package\n",
    "- if we want full flexibility of quick access to joints and contact, we still need to import mjcf from dm_control, which introduce a whole new sets of dependencies.\n",
    "    - better logics for contact termination, terminate when the system is unhealthy\n",
    "    - simplified observation space other than the huge array of joint angles and positions\n",
    "\n",
    "**How-to:**\n",
    "- Insert the `dm_control.rodent()` (loaded by mjcf) to the brax training system. \n",
    "    - _Challenges_: we need to bind the physics to `Mjx_model` in order to pass the simulation data to dm_control."
   ]
  },
  {
   "cell_type": "code",
   "execution_count": 8,
   "metadata": {},
   "outputs": [],
   "source": [
    "# This is how brax uses MJCF\n",
    "mj_model = mujoco.MjModel.from_xml_path(rodent._XML_PATH)\n",
    "mj_model.opt.solver = mujoco.mjtSolver.mjSOL_CG\n",
    "mj_model.opt.iterations = 6\n",
    "mj_model.opt.ls_iterations = 6\n",
    "sys = mjcf_brax.load_model(mj_model)"
   ]
  },
  {
   "cell_type": "code",
   "execution_count": 9,
   "metadata": {},
   "outputs": [
    {
     "name": "stdout",
     "output_type": "stream",
     "text": [
      "(MJCF Element: <geom name=\"foot_L_collision\" class=\"collision_primitive_paw\" size=\"0.003210712207833968 0.01238417565878816\" density=\"2041.1597822799999\" pos=\"0.0082744640327606835 0.0022566720089347309 -0.0022566720089347309\" euler=\"1.570796326794897 -1.2217304763960311 0\"/>, MJCF Element: <geom name=\"toe_L0_collision\" class=\"collision_primitive_paw\" size=\"0.002383208424149982 0.0072532430300216834\" pos=\"0.0084966561208825436 -0.0008496656120882542 0\" euler=\"1.570796326794897 -1.2217304763960311 0\"/>, MJCF Element: <geom name=\"toe_L1_collision\" class=\"collision_primitive_paw\" size=\"0.002383208424149982 0.0077713318178803739\" pos=\"0.0080718233148384163 0.0025489968362647632 0\" euler=\"1.570796326794897 -1.2217304763960311 0\"/>, MJCF Element: <geom name=\"toe_L2_collision\" class=\"collision_primitive_paw\" size=\"0.002383208424149982 0.0072532430300216834\" pos=\"0.0067973248967060336 0.0055228264785736536 0\" euler=\"1.570796326794897 -1.2217304763960311 0\"/>, MJCF Element: <geom name=\"foot_R_collision\" class=\"collision_primitive_paw\" size=\"0.003210712207833968 0.01238417565878816\" density=\"2041.1597822799999\" pos=\"0.0082744640327606835 -0.0022566720089347309 -0.0022566720089347309\" euler=\"1.570796326794897 1.2217304763960311 0\"/>)\n"
     ]
    }
   ],
   "source": [
    "dm_rodent = rodent.Rodent()\n",
    "# this will directly get out the contacting geoms\n",
    "print(dm_rodent.ground_contact_geoms[:5])\n",
    "# However, we need physics object to pass in dm_control to see how we\n",
    "# can have better understanding of the simulation\n",
    "# might be hard to integrate with brax/mjx"
   ]
  },
  {
   "cell_type": "code",
   "execution_count": 56,
   "metadata": {},
   "outputs": [
    {
     "data": {
      "text/plain": [
       "MJCF Element: <geom name=\"foot_L_collision\" class=\"collision_primitive_paw\" size=\"0.003210712207833968 0.01238417565878816\" density=\"2041.1597822799999\" pos=\"0.0082744640327606835 0.0022566720089347309 -0.0022566720089347309\" euler=\"1.570796326794897 -1.2217304763960311 0\"/>"
      ]
     },
     "execution_count": 56,
     "metadata": {},
     "output_type": "execute_result"
    }
   ],
   "source": [
    "dm_rodent.ground_contact_geoms[0]"
   ]
  },
  {
   "cell_type": "code",
   "execution_count": 10,
   "metadata": {},
   "outputs": [
    {
     "data": {
      "text/plain": [
       "(65, 65)"
      ]
     },
     "execution_count": 10,
     "metadata": {},
     "output_type": "execute_result"
    }
   ],
   "source": [
    "# system has the inertia information of this named space\n",
    "sys.link.inertia.transform.pos.__len__(), len(sys.link_names)"
   ]
  },
  {
   "cell_type": "code",
   "execution_count": 11,
   "metadata": {},
   "outputs": [
    {
     "data": {
      "text/plain": [
       "['torso',\n",
       " 'vertebra_1',\n",
       " 'vertebra_2',\n",
       " 'vertebra_3',\n",
       " 'vertebra_4',\n",
       " 'vertebra_5',\n",
       " 'vertebra_6',\n",
       " 'pelvis',\n",
       " 'upper_leg_L',\n",
       " 'lower_leg_L',\n",
       " 'foot_L',\n",
       " 'toe_L',\n",
       " 'upper_leg_R',\n",
       " 'lower_leg_R',\n",
       " 'foot_R',\n",
       " 'toe_R',\n",
       " 'vertebra_C1',\n",
       " 'vertebra_C2',\n",
       " 'vertebra_C3',\n",
       " 'vertebra_C4',\n",
       " 'vertebra_C5',\n",
       " 'vertebra_C6',\n",
       " 'vertebra_C7',\n",
       " 'vertebra_C8',\n",
       " 'vertebra_C9',\n",
       " 'vertebra_C10',\n",
       " 'vertebra_C11',\n",
       " 'vertebra_C12',\n",
       " 'vertebra_C13',\n",
       " 'vertebra_C14',\n",
       " 'vertebra_C15',\n",
       " 'vertebra_C16',\n",
       " 'vertebra_C17',\n",
       " 'vertebra_C18',\n",
       " 'vertebra_C19',\n",
       " 'vertebra_C20',\n",
       " 'vertebra_C21',\n",
       " 'vertebra_C22',\n",
       " 'vertebra_C23',\n",
       " 'vertebra_C24',\n",
       " 'vertebra_C25',\n",
       " 'vertebra_C26',\n",
       " 'vertebra_C27',\n",
       " 'vertebra_C28',\n",
       " 'vertebra_C29',\n",
       " 'vertebra_C30',\n",
       " 'vertebra_cervical_5',\n",
       " 'vertebra_cervical_4',\n",
       " 'vertebra_cervical_3',\n",
       " 'vertebra_cervical_2',\n",
       " 'vertebra_cervical_1',\n",
       " 'vertebra_axis',\n",
       " 'vertebra_atlant',\n",
       " 'skull',\n",
       " 'jaw',\n",
       " 'scapula_L',\n",
       " 'upper_arm_L',\n",
       " 'lower_arm_L',\n",
       " 'hand_L',\n",
       " 'finger_L',\n",
       " 'scapula_R',\n",
       " 'upper_arm_R',\n",
       " 'lower_arm_R',\n",
       " 'hand_R',\n",
       " 'finger_R']"
      ]
     },
     "execution_count": 11,
     "metadata": {},
     "output_type": "execute_result"
    }
   ],
   "source": [
    "sys.link_names"
   ]
  },
  {
   "cell_type": "markdown",
   "metadata": {},
   "source": [
    "## Insert the MJCF\n",
    "Enabled rodent model to brax. \n",
    "\n",
    "**TODO:** Might also be helpful to just use the dm_control logics for reward and contact terminations.\n",
    "\n",
    "> Review [these functions code](https://github.com/google-deepmind/dm_control/blob/b002aa350c3a48e44ecef84bd5dab6d08e1b2f74/dm_control/locomotion/tasks/corridors.py#L127) in `dm_control` where they calculate the reward and physical simulation steps.\n",
    "\n",
    "> Maybe a named mapping {joint: index} to each joint and geom for better access. Look how [brax system might have done it](https://github.com/google/brax/blob/2329ae76759e37b0b1f1861cf34e5a67d0f7efa8/brax/base.py#L470). "
   ]
  },
  {
   "cell_type": "code",
   "execution_count": 12,
   "metadata": {},
   "outputs": [],
   "source": [
    "import jax\n",
    "from jax import numpy as jp\n",
    "\n",
    "from brax import envs\n",
    "from brax.envs.base import PipelineEnv, State\n",
    "from brax.io import mjcf as mjcf_brax\n",
    "\n",
    "import mujoco\n",
    "from mujoco import mjx\n",
    "\n",
    "import yaml\n",
    "from typing import Dict, Text\n"
   ]
  },
  {
   "cell_type": "markdown",
   "metadata": {},
   "source": [
    "**Notes:** Brax system `brax.System` is a subclass of the `mjx.Model`\n",
    "\n",
    "**Notes:** Brax State `brax.State` is a subclass of `mjx.Data`"
   ]
  },
  {
   "cell_type": "code",
   "execution_count": 107,
   "metadata": {},
   "outputs": [],
   "source": [
    "class Rodent(PipelineEnv):\n",
    "\n",
    "  def __init__(\n",
    "      self,\n",
    "      forward_reward_weight=1.25,\n",
    "      ctrl_cost_weight=0.1,\n",
    "      healthy_reward=5.0,\n",
    "      terminate_when_unhealthy=True,\n",
    "      healthy_z_range=(0.70, 0.0),\n",
    "      reset_noise_scale=1e-2,\n",
    "      exclude_current_positions_from_observation=True,\n",
    "      **kwargs,\n",
    "  ):\n",
    "    # Load the rodent model via dm_control\n",
    "    dm_rodent = rodent.Rodent()\n",
    "    physics = mjcf_dm.Physics.from_mjcf_model(dm_rodent.mjcf_model)\n",
    "    # mj_model = mujoco.MjModel.from_xml_path(params[\"XML_PATH\"])\n",
    "    mj_model = physics.model.ptr\n",
    "    mj_model.opt.solver = mujoco.mjtSolver.mjSOL_CG\n",
    "    mj_model.opt.iterations = 2\n",
    "    mj_model.opt.ls_iterations = 4\n",
    "\n",
    "    sys = mjcf_brax.load_model(mj_model)\n",
    "\n",
    "    physics_steps_per_control_step = 3\n",
    "    kwargs['n_frames'] = kwargs.get(\n",
    "        'n_frames', physics_steps_per_control_step\n",
    "    )\n",
    "    kwargs['backend'] = 'mjx'\n",
    "\n",
    "    super().__init__(sys, **kwargs)\n",
    "\n",
    "    self._forward_reward_weight = forward_reward_weight\n",
    "    self._ctrl_cost_weight = ctrl_cost_weight\n",
    "    self._healthy_reward = healthy_reward\n",
    "    self._terminate_when_unhealthy = terminate_when_unhealthy\n",
    "    self._healthy_z_range = healthy_z_range\n",
    "    self._reset_noise_scale = reset_noise_scale\n",
    "    self._exclude_current_positions_from_observation = (\n",
    "        exclude_current_positions_from_observation\n",
    "    )\n",
    "\n",
    "  def reset(self, rng: jp.ndarray) -> State:\n",
    "    \"\"\"Resets the environment to an initial state.\"\"\"\n",
    "    rng, rng1, rng2 = jax.random.split(rng, 3)\n",
    "\n",
    "    low, hi = -self._reset_noise_scale, self._reset_noise_scale\n",
    "    # initialize random position\n",
    "    qpos = self.sys.qpos0 + jax.random.uniform(\n",
    "        rng1, (self.sys.nq,), minval=low, maxval=hi\n",
    "    )\n",
    "    qvel = jax.random.uniform(\n",
    "        rng2, (self.sys.nv,), minval=low, maxval=hi\n",
    "    )\n",
    "\n",
    "    # initialize the data space\n",
    "    data = self.pipeline_init(qpos, qvel)\n",
    "\n",
    "    # get observation\n",
    "    obs = self._get_obs(data, jp.zeros(self.sys.nu))\n",
    "    reward, done, zero = jp.zeros(3)\n",
    "    metrics = {\n",
    "        'forward_reward': zero,\n",
    "        'reward_linvel': zero,\n",
    "        'reward_quadctrl': zero,\n",
    "        'reward_alive': zero,\n",
    "        'x_position': zero,\n",
    "        'y_position': zero,\n",
    "        'distance_from_origin': zero,\n",
    "        'x_velocity': zero,\n",
    "        'y_velocity': zero,\n",
    "    }\n",
    "    return State(data, obs, reward, done, metrics)\n",
    "\n",
    "  def step(self, state: State, action: jp.ndarray) -> State:\n",
    "    \"\"\"Runs one timestep of the environment's dynamics.\"\"\"\n",
    "    data0 = state.pipeline_state\n",
    "    data = self.pipeline_step(data0, action)\n",
    "\n",
    "    com_before = data0.subtree_com[1]\n",
    "    com_after = data.subtree_com[1]\n",
    "    velocity = (com_after - com_before) / self.dt\n",
    "    forward_reward = self._forward_reward_weight * velocity[0]\n",
    "\n",
    "    min_z, max_z = self._healthy_z_range\n",
    "    is_healthy = jp.where(data.q[2] < min_z, 0.0, 1.0)\n",
    "    if self._terminate_when_unhealthy:\n",
    "      healthy_reward = self._healthy_reward\n",
    "    else:\n",
    "      healthy_reward = self._healthy_reward * is_healthy\n",
    "\n",
    "    ctrl_cost = self._ctrl_cost_weight * jp.sum(jp.square(action))\n",
    "\n",
    "    obs = self._get_obs(data, action)\n",
    "    reward = forward_reward + healthy_reward - ctrl_cost\n",
    "    done = 1.0 - is_healthy if self._terminate_when_unhealthy else 0.0\n",
    "    state.metrics.update(\n",
    "        forward_reward=forward_reward,\n",
    "        reward_linvel=forward_reward,\n",
    "        reward_quadctrl=-ctrl_cost,\n",
    "        reward_alive=healthy_reward,\n",
    "        x_position=com_after[0],\n",
    "        y_position=com_after[1],\n",
    "        distance_from_origin=jp.linalg.norm(com_after),\n",
    "        x_velocity=velocity[0],\n",
    "        y_velocity=velocity[1],\n",
    "    )\n",
    "\n",
    "    return state.replace(\n",
    "        pipeline_state=data, obs=obs, reward=reward, done=done\n",
    "    )\n",
    "\n",
    "  def _get_obs(\n",
    "      self, data: mjx.Data, action: jp.ndarray\n",
    "  ) -> jp.ndarray:\n",
    "    \"\"\"Observes rodent body position, velocities, and angles.\"\"\"\n",
    "\n",
    "    # external_contact_forces are excluded\n",
    "    return jp.concatenate([\n",
    "      jp.zeros(1)\n",
    "    ])\n",
    "\n",
    "\n",
    "envs.register_environment('rodent', Rodent)"
   ]
  },
  {
   "cell_type": "code",
   "execution_count": 46,
   "metadata": {},
   "outputs": [],
   "source": [
    "for _ in range(1000):\n",
    "    next_state = jit_step(state, jp.zeros(30))\n",
    "    state = next_state"
   ]
  },
  {
   "cell_type": "markdown",
   "metadata": {},
   "source": [
    "Previous cell took 18.8 to run the simulation after `jit`, which corresponds to approxi 53.2 sps (on AMD Ryzen 7 3700X 8-Core Processor / Nvidia 2070s)\n",
    "\n",
    "TODO: Benchmark this on A5000\n",
    "\n",
    "\n",
    "<div class=\"alert alert-success\">\n",
    "  <strong>BUG:</strong> Why does the state does not have contact field? Is it not calculating contact in mjx step? <br/>\n",
    "  <strong>REASON:</strong> The state generated by `pipeline_step` should have the contact field. i.e. `pipeline_state` should have contact but not the regular state.\n",
    "</div>\n",
    "\n",
    "The `State` object returned in the step function nested another `State` object called `pipeline_state`, which contain richer information about the physical simulation. In terms of why that is the case? I don't know.\n"
   ]
  },
  {
   "cell_type": "code",
   "execution_count": 106,
   "metadata": {},
   "outputs": [
    {
     "data": {
      "text/plain": [
       "Contact(dist=Array([0.00676617, 0.0183332 , 0.03712968, ..., 1.        , 1.        ,\n",
       "       1.        ], dtype=float32), pos=Array([[ 0.06609569,  0.10668103,  0.00338309],\n",
       "       [ 0.05427406,  0.08824398,  0.0091666 ],\n",
       "       [ 0.01166843,  0.16785012,  0.01856484],\n",
       "       ...,\n",
       "       [-0.04209168,  0.10930085,  0.09420121],\n",
       "       [-0.04226784,  0.11437095,  0.09025861],\n",
       "       [-0.04327573,  0.11223526,  0.09468883]], dtype=float32), frame=Array([[[ 0.        ,  0.        ,  1.        ],\n",
       "        [ 0.53976357,  0.8418166 ,  0.        ],\n",
       "        [-0.8418166 ,  0.53976357,  0.        ]],\n",
       "\n",
       "       [[ 0.        ,  0.        ,  1.        ],\n",
       "        [ 0.53976357,  0.8418166 ,  0.        ],\n",
       "        [-0.8418166 ,  0.53976357,  0.        ]],\n",
       "\n",
       "       [[ 0.        ,  0.        ,  1.        ],\n",
       "        [-0.97036415, -0.24164754,  0.        ],\n",
       "        [ 0.24164754, -0.97036415,  0.        ]],\n",
       "\n",
       "       ...,\n",
       "\n",
       "       [[ 0.8604781 ,  0.50058156, -0.09484512],\n",
       "        [ 0.08198173,  0.04769272,  0.9954921 ],\n",
       "        [ 0.5028484 , -0.8643747 ,  0.        ]],\n",
       "\n",
       "       [[ 0.8604781 ,  0.50058156, -0.09484512],\n",
       "        [ 0.08198173,  0.04769272,  0.9954921 ],\n",
       "        [ 0.5028484 , -0.8643747 ,  0.        ]],\n",
       "\n",
       "       [[ 0.8604781 ,  0.50058156, -0.09484512],\n",
       "        [ 0.08198173,  0.04769272,  0.9954921 ],\n",
       "        [ 0.5028484 , -0.8643747 ,  0.        ]]], dtype=float32), includemargin=Array([0., 0., 0., ..., 0., 0., 0.], dtype=float32), friction=Array([[1.0e+00, 1.0e+00, 5.0e-03, 1.0e-04, 1.0e-04],\n",
       "       [1.0e+00, 1.0e+00, 5.0e-03, 1.0e-04, 1.0e-04],\n",
       "       [1.0e+00, 1.0e+00, 5.0e-03, 1.0e-04, 1.0e-04],\n",
       "       ...,\n",
       "       [1.5e+00, 1.5e+00, 5.0e-03, 1.0e-04, 1.0e-04],\n",
       "       [1.5e+00, 1.5e+00, 5.0e-03, 1.0e-04, 1.0e-04],\n",
       "       [1.5e+00, 1.5e+00, 5.0e-03, 1.0e-04, 1.0e-04]], dtype=float32), solref=Array([[0.02 , 1.   ],\n",
       "       [0.02 , 1.   ],\n",
       "       [0.02 , 1.   ],\n",
       "       ...,\n",
       "       [0.005, 1.   ],\n",
       "       [0.005, 1.   ],\n",
       "       [0.005, 1.   ]], dtype=float32), solreffriction=Array([[0., 0.],\n",
       "       [0., 0.],\n",
       "       [0., 0.],\n",
       "       ...,\n",
       "       [0., 0.],\n",
       "       [0., 0.],\n",
       "       [0., 0.]], dtype=float32), solimp=Array([[9.0e-01, 9.5e-01, 1.0e-03, 5.0e-01, 2.0e+00],\n",
       "       [9.0e-01, 9.5e-01, 1.0e-03, 5.0e-01, 2.0e+00],\n",
       "       [9.0e-01, 9.5e-01, 1.0e-03, 5.0e-01, 2.0e+00],\n",
       "       ...,\n",
       "       [9.0e-01, 9.5e-01, 1.0e-03, 5.0e-01, 2.0e+00],\n",
       "       [9.0e-01, 9.5e-01, 1.0e-03, 5.0e-01, 2.0e+00],\n",
       "       [9.0e-01, 9.5e-01, 1.0e-03, 5.0e-01, 2.0e+00]], dtype=float32), geom1=Array([  0,   0,   0, ...,  99, 100, 100], dtype=int32), geom2=Array([13, 13, 19, ..., 84, 84, 84], dtype=int32), link_idx=(Array([-1, -1, -1, ..., 64, 64, 64], dtype=int32), Array([10, 10, 14, ..., 54, 54, 54], dtype=int32)), elasticity=Array([0., 0., 0., ..., 0., 0., 0.], dtype=float32))"
      ]
     },
     "execution_count": 106,
     "metadata": {},
     "output_type": "execute_result"
    }
   ],
   "source": [
    "# instead of next_state.contact, do:\n",
    "next_state.pipeline_state.contact"
   ]
  },
  {
   "cell_type": "code",
   "execution_count": 98,
   "metadata": {},
   "outputs": [],
   "source": [
    "from brax import envs\n",
    "ant_env = envs.get_environment(\"ant\", backend='mjx')\n",
    "# jit_ant_reset = jax.jit(ant_env.reset)\n",
    "# jit_ant_step = jax.jit(ant_env.step)\n",
    "rng = jax.random.PRNGKey(0)\n",
    "state = ant_env.reset(rng)\n"
   ]
  },
  {
   "cell_type": "code",
   "execution_count": 75,
   "metadata": {},
   "outputs": [],
   "source": [
    "for _ in range(1000):\n",
    "    next_ant_state = jit_ant_step(state, jp.zeros(8))\n",
    "    state = next_ant_state\n",
    "    try:\n",
    "        print(next_ant_state.contact)\n",
    "    except AttributeError: \n",
    "        pass"
   ]
  },
  {
   "cell_type": "markdown",
   "metadata": {},
   "source": [
    "<div class=\"alert alert-success\">\n",
    "  <strong>Implemented: </strong>Complete a helper function to imitate the observation space and contact termination in dm_control using the `sys.link` and `sys.link_names` mentioned above.\n",
    "</div>"
   ]
  },
  {
   "cell_type": "code",
   "execution_count": 109,
   "metadata": {},
   "outputs": [],
   "source": [
    "# generate the rodent model\n",
    "from brax.base import System\n",
    "\n",
    "rng = jax.random.PRNGKey(0)\n",
    "rodent_brax = Rodent()\n",
    "\n",
    "# define the jit reset/step functions\n",
    "jit_reset = jax.jit(rodent_brax.reset)\n",
    "jit_step = jax.jit(rodent_brax.step)\n",
    "\n",
    "state = jit_reset(rng)"
   ]
  },
  {
   "cell_type": "markdown",
   "metadata": {},
   "source": [
    "<div class=\"alert alert-danger\">\n",
    "  <strong>BUG:</strong> The contact space is unreasonably large, currently at (4840) pairs of contacts of the rodent model. In contrast, the ant model only have (4) pairs of contacts, which is expected because the ant only have four legs.\n",
    "\n",
    "  This will be the precursor for contact termination logics.\n",
    "</div>\n"
   ]
  },
  {
   "cell_type": "code",
   "execution_count": 125,
   "metadata": {},
   "outputs": [
    {
     "data": {
      "text/plain": [
       "(4840, 3)"
      ]
     },
     "execution_count": 125,
     "metadata": {},
     "output_type": "execute_result"
    }
   ],
   "source": [
    "state.pipeline_state.contact.pos.shape"
   ]
  },
  {
   "cell_type": "code",
   "execution_count": 129,
   "metadata": {},
   "outputs": [
    {
     "name": "stdout",
     "output_type": "stream",
     "text": [
      "(4, 3)\n"
     ]
    }
   ],
   "source": [
    "ant_env = envs.get_environment(\"ant\", backend='mjx')\n",
    "# jit_ant_reset = jax.jit(ant_env.reset)\n",
    "# jit_ant_step = jax.jit(ant_env.step)\n",
    "rng = jax.random.PRNGKey(0)\n",
    "state = ant_env.reset(rng)\n",
    "\n",
    "link_name = ant_env.sys.link_names\n",
    "link_name.append(\"floor\")\n",
    "print(state.pipeline_state.contact.pos.shape)\n",
    "# geom1s, geom2s = state.pipeline_state.contact.link_idx\n",
    "# for g1, g2 in zip(geom1s, geom2s):\n",
    "#     print(f\"Contact between: {link_name[g1]} and {link_name[g2]}\")"
   ]
  },
  {
   "cell_type": "markdown",
   "metadata": {},
   "source": [
    "<div class=\"alert alert-warning\">\n",
    "  <strong>TODO: </strong> Implement better observation space. In `dm_control`'s rodent model, observables only has 30 dimension.\n",
    "\n",
    "  <strong>???: </strong> I cannot find the observation space for the virtual rodent in the `dm_control` repo... Did I missed anything? It only provides with the observation space for the element in the `dm_control.suite`. The following is the observation space for the Humanoid:\n",
    "\n",
    "  ```python\n",
    "    def get_observation(self, physics):\n",
    "    \"\"\"Returns a set of egocentric features.\"\"\"\n",
    "    obs = collections.OrderedDict()\n",
    "    obs['joint_angles'] = physics.joint_angles()\n",
    "    obs['head_height'] = physics.head_height()\n",
    "    obs['extremities'] = physics.extremities()\n",
    "    obs['torso_vertical'] = physics.torso_vertical_orientation()\n",
    "    obs['com_velocity'] = physics.center_of_mass_velocity()\n",
    "    obs['velocity'] = physics.velocity()\n",
    "    return obs\n",
    "  ```\n",
    "  I can also just try to imitate this logic for our rodent friend.\n",
    "</div>"
   ]
  },
  {
   "cell_type": "code",
   "execution_count": 150,
   "metadata": {},
   "outputs": [
    {
     "data": {
      "text/plain": [
       "30"
      ]
     },
     "execution_count": 150,
     "metadata": {},
     "output_type": "execute_result"
    }
   ],
   "source": [
    "len(dm_rodent.observables.as_dict())"
   ]
  },
  {
   "cell_type": "code",
   "execution_count": null,
   "metadata": {},
   "outputs": [],
   "source": [
    "class Rodent(PipelineEnv):\n",
    "\n",
    "  def __init__(\n",
    "      self,\n",
    "      forward_reward_weight=1.25,\n",
    "      ctrl_cost_weight=0.1,\n",
    "      healthy_reward=5.0,\n",
    "      terminate_when_unhealthy=True,\n",
    "      healthy_z_range=(0.70, 0.0),\n",
    "      reset_noise_scale=1e-2,\n",
    "      exclude_current_positions_from_observation=True,\n",
    "      **kwargs,\n",
    "  ):\n",
    "    # Load the rodent model via dm_control\n",
    "    dm_rodent = rodent.Rodent()\n",
    "    physics = mjcf_dm.Physics.from_mjcf_model(dm_rodent.mjcf_model)\n",
    "    # mj_model = mujoco.MjModel.from_xml_path(params[\"XML_PATH\"])\n",
    "    mj_model = physics.model.ptr\n",
    "    mj_model.opt.solver = mujoco.mjtSolver.mjSOL_CG\n",
    "    mj_model.opt.iterations = 2\n",
    "    mj_model.opt.ls_iterations = 4\n",
    "\n",
    "    sys = mjcf_brax.load_model(mj_model)\n",
    "\n",
    "    physics_steps_per_control_step = 3\n",
    "    kwargs['n_frames'] = kwargs.get(\n",
    "        'n_frames', physics_steps_per_control_step\n",
    "    )\n",
    "    kwargs['backend'] = 'mjx'\n",
    "\n",
    "    super().__init__(sys, **kwargs)\n",
    "\n",
    "    self.link_name_to_idx = self.make_mapping(sys.link_names)\n",
    "    self._forward_reward_weight = forward_reward_weight\n",
    "    self._ctrl_cost_weight = ctrl_cost_weight\n",
    "    self._healthy_reward = healthy_reward\n",
    "    self._terminate_when_unhealthy = terminate_when_unhealthy\n",
    "    self._healthy_z_range = healthy_z_range\n",
    "    self._reset_noise_scale = reset_noise_scale\n",
    "    self._exclude_current_positions_from_observation = (\n",
    "        exclude_current_positions_from_observation\n",
    "    )\n",
    "\n",
    "  def make_mapping(self, lst: list) -> Dict:\n",
    "    return {key: ele for key, ele in enumerate(lst)}\n",
    "\n",
    "  def get_com(self, pipeline_state: State, link_name: str):\n",
    "    if link_name not in self.link_name_to_idx.keys():\n",
    "      raise KeyError(\"Link Name does not exist in the \")\n",
    "    link_idx = self.link_name_to_idx[link_name]\n",
    "    return pipeline_state.subtree_com[link_idx]\n",
    "\n",
    "  def reset(self, rng: jp.ndarray) -> State:\n",
    "    \"\"\"Resets the environment to an initial state.\"\"\"\n",
    "    rng, rng1, rng2 = jax.random.split(rng, 3)\n",
    "\n",
    "    low, hi = -self._reset_noise_scale, self._reset_noise_scale\n",
    "    # initialize random position\n",
    "    qpos = self.sys.qpos0 + jax.random.uniform(\n",
    "        rng1, (self.sys.nq,), minval=low, maxval=hi\n",
    "    )\n",
    "    qvel = jax.random.uniform(\n",
    "        rng2, (self.sys.nv,), minval=low, maxval=hi\n",
    "    )\n",
    "\n",
    "    # initialize the data space\n",
    "    data = self.pipeline_init(qpos, qvel)\n",
    "\n",
    "    # get observation\n",
    "    obs = self._get_obs(data, jp.zeros(self.sys.nu))\n",
    "    reward, done, zero = jp.zeros(3)\n",
    "    metrics = {\n",
    "        'forward_reward': zero,\n",
    "        'reward_linvel': zero,\n",
    "        'reward_quadctrl': zero,\n",
    "        'reward_alive': zero,\n",
    "        'x_position': zero,\n",
    "        'y_position': zero,\n",
    "        'distance_from_origin': zero,\n",
    "        'x_velocity': zero,\n",
    "        'y_velocity': zero,\n",
    "    }\n",
    "    return State(data, obs, reward, done, metrics)\n",
    "\n",
    "  def step(self, state: State, action: jp.ndarray) -> State:\n",
    "    \"\"\"Runs one timestep of the environment's dynamics.\"\"\"\n",
    "    data0 = state.pipeline_state\n",
    "    data = self.pipeline_step(data0, action)\n",
    "\n",
    "    com_before = data0.subtree_com[1]\n",
    "    com_after = data.subtree_com[1]\n",
    "    velocity = (com_after - com_before) / self.dt\n",
    "    forward_reward = self._forward_reward_weight * velocity[0]\n",
    "\n",
    "    min_z, max_z = self._healthy_z_range\n",
    "    is_healthy = jp.where(data.q[2] < min_z, 0.0, 1.0)\n",
    "    if self._terminate_when_unhealthy:\n",
    "      healthy_reward = self._healthy_reward\n",
    "    else:\n",
    "      healthy_reward = self._healthy_reward * is_healthy\n",
    "\n",
    "    ctrl_cost = self._ctrl_cost_weight * jp.sum(jp.square(action))\n",
    "\n",
    "    obs = self._get_obs(data, action)\n",
    "    reward = forward_reward + healthy_reward - ctrl_cost\n",
    "    done = 1.0 - is_healthy if self._terminate_when_unhealthy else 0.0\n",
    "    state.metrics.update(\n",
    "        forward_reward=forward_reward,\n",
    "        reward_linvel=forward_reward,\n",
    "        reward_quadctrl=-ctrl_cost,\n",
    "        reward_alive=healthy_reward,\n",
    "        x_position=com_after[0],\n",
    "        y_position=com_after[1],\n",
    "        distance_from_origin=jp.linalg.norm(com_after),\n",
    "        x_velocity=velocity[0],\n",
    "        y_velocity=velocity[1],\n",
    "    )\n",
    "\n",
    "    return state.replace(\n",
    "        pipeline_state=data, obs=obs, reward=reward, done=done\n",
    "    )\n",
    "\n",
    "  def _get_obs(\n",
    "      self, data: mjx.Data, action: jp.ndarray\n",
    "  ) -> jp.ndarray:\n",
    "    \"\"\"Observes rodent body position, velocities, and angles.\"\"\"\n",
    "\n",
    "    # external_contact_forces are excluded\n",
    "    return jp.concatenate([\n",
    "      jp.zeros(1)\n",
    "    ])\n",
    "\n",
    "\n",
    "envs.register_environment('rodent', Rodent)"
   ]
  }
 ],
 "metadata": {
  "kernelspec": {
   "display_name": "stac-mjx",
   "language": "python",
   "name": "python3"
  },
  "language_info": {
   "codemirror_mode": {
    "name": "ipython",
    "version": 3
   },
   "file_extension": ".py",
   "mimetype": "text/x-python",
   "name": "python",
   "nbconvert_exporter": "python",
   "pygments_lexer": "ipython3",
   "version": "3.10.13"
  }
 },
 "nbformat": 4,
 "nbformat_minor": 2
}
