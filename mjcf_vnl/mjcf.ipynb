{
 "cells": [
  {
   "cell_type": "code",
   "execution_count": 2,
   "metadata": {},
   "outputs": [],
   "source": [
    "import rodent\n",
    "from brax.io import mjcf as mjcf_brax\n",
    "from dm_control import mjcf as mjcf_dm\n",
    "import mujoco"
   ]
  },
  {
   "cell_type": "code",
   "execution_count": 4,
   "metadata": {},
   "outputs": [],
   "source": [
    "from dm_control import mujoco as mujoco_dm"
   ]
  },
  {
   "cell_type": "code",
   "execution_count": null,
   "metadata": {},
   "outputs": [],
   "source": [
    "mujoco_dm.Physics"
   ]
  },
  {
   "cell_type": "markdown",
   "metadata": {},
   "source": [
    "## Adapt the MJCF in brax and in dm_control\n",
    "\n",
    "> TODO: We can adapt the `rodent.py`'s mjcf system to brax, to allow it to interact with the brax system.\n",
    "\n",
    "- The MJCF in brax is pretty bare-bone, and only support loading the xml output form the mjcf package\n",
    "- if we want full flexibility of quick access to joints and contact, we still need to import mjcf from dm_control, which introduce a whole new sets of dependencies.\n",
    "    - better logics for contact termination, terminate when the system is unhealthy\n",
    "    - simplified observation space other than the huge array of joint angles and positions\n",
    "\n",
    "**How-to:**\n",
    "- Insert the `dm_control.rodent()` (loaded by mjcf) to the brax training system. \n",
    "    - _Challenges_: we need to bind the physics to `Mjx_model` in order to pass the simulation data to dm_control."
   ]
  },
  {
   "cell_type": "code",
   "execution_count": 5,
   "metadata": {},
   "outputs": [],
   "source": [
    "# This is how brax uses MJCF\n",
    "mj_model = mujoco.MjModel.from_xml_path(rodent._XML_PATH)\n",
    "mj_model.opt.solver = mujoco.mjtSolver.mjSOL_CG\n",
    "mj_model.opt.iterations = 6\n",
    "mj_model.opt.ls_iterations = 6\n",
    "sys = mjcf_brax.load_model(mj_model)"
   ]
  },
  {
   "cell_type": "code",
   "execution_count": 6,
   "metadata": {},
   "outputs": [
    {
     "name": "stdout",
     "output_type": "stream",
     "text": [
      "(MJCF Element: <geom name=\"foot_L_collision\" class=\"collision_primitive_paw\" size=\"0.003210712207833968 0.01238417565878816\" density=\"2041.1597822799999\" pos=\"0.0082744640327606835 0.0022566720089347309 -0.0022566720089347309\" euler=\"1.570796326794897 -1.2217304763960311 0\"/>, MJCF Element: <geom name=\"toe_L0_collision\" class=\"collision_primitive_paw\" size=\"0.002383208424149982 0.0072532430300216834\" pos=\"0.0084966561208825436 -0.0008496656120882542 0\" euler=\"1.570796326794897 -1.2217304763960311 0\"/>, MJCF Element: <geom name=\"toe_L1_collision\" class=\"collision_primitive_paw\" size=\"0.002383208424149982 0.0077713318178803739\" pos=\"0.0080718233148384163 0.0025489968362647632 0\" euler=\"1.570796326794897 -1.2217304763960311 0\"/>, MJCF Element: <geom name=\"toe_L2_collision\" class=\"collision_primitive_paw\" size=\"0.002383208424149982 0.0072532430300216834\" pos=\"0.0067973248967060336 0.0055228264785736536 0\" euler=\"1.570796326794897 -1.2217304763960311 0\"/>, MJCF Element: <geom name=\"foot_R_collision\" class=\"collision_primitive_paw\" size=\"0.003210712207833968 0.01238417565878816\" density=\"2041.1597822799999\" pos=\"0.0082744640327606835 -0.0022566720089347309 -0.0022566720089347309\" euler=\"1.570796326794897 1.2217304763960311 0\"/>)\n"
     ]
    }
   ],
   "source": [
    "dm_rodent = rodent.Rodent()\n",
    "# this will directly get out the contacting geoms\n",
    "print(dm_rodent.ground_contact_geoms[:5])\n",
    "# However, we need physics object to pass in dm_control to see how we\n",
    "# can have better understanding of the simulation\n",
    "# might be hard to integrate with brax/mjx"
   ]
  },
  {
   "cell_type": "code",
   "execution_count": 18,
   "metadata": {},
   "outputs": [
    {
     "data": {
      "text/plain": [
       "<rodent.Rodent at 0x7c95c8236120>"
      ]
     },
     "execution_count": 18,
     "metadata": {},
     "output_type": "execute_result"
    }
   ],
   "source": [
    "dm_rodent.apply_action()"
   ]
  },
  {
   "cell_type": "code",
   "execution_count": 11,
   "metadata": {},
   "outputs": [
    {
     "data": {
      "text/plain": [
       "<dm_control.composer.observation.observable.mjcf.MJCFFeature at 0x7c95c8234ec0>"
      ]
     },
     "execution_count": 11,
     "metadata": {},
     "output_type": "execute_result"
    }
   ],
   "source": [
    "dm_rodent.observables"
   ]
  },
  {
   "cell_type": "markdown",
   "metadata": {},
   "source": [
    "## Insert the MJCF\n",
    "Enabled rodent model to brax. \n",
    "\n",
    "**TODO:** Might also be helpful to just use the dm_control logics for reward and contact terminations.\n",
    "\n",
    "> Review [these functions code](https://github.com/google-deepmind/dm_control/blob/b002aa350c3a48e44ecef84bd5dab6d08e1b2f74/dm_control/locomotion/tasks/corridors.py#L127) in `dm_control` where they calculate the reward and physical simulation steps.\n",
    "\n",
    "> Maybe a named mapping {joint: index} to each joint and geom for better access. Look how [brax system might have done it](https://github.com/google/brax/blob/2329ae76759e37b0b1f1861cf34e5a67d0f7efa8/brax/base.py#L470). "
   ]
  },
  {
   "cell_type": "code",
   "execution_count": 3,
   "metadata": {},
   "outputs": [],
   "source": [
    "import jax\n",
    "from jax import numpy as jp\n",
    "\n",
    "from brax import envs\n",
    "from brax.envs.base import PipelineEnv, State\n",
    "from brax.io import mjcf_brax\n",
    "\n",
    "import mujoco\n",
    "from mujoco import mjx\n",
    "\n",
    "import yaml\n",
    "from typing import Dict, Text\n"
   ]
  },
  {
   "cell_type": "code",
   "execution_count": null,
   "metadata": {},
   "outputs": [],
   "source": [
    "class Rodent(PipelineEnv):\n",
    "\n",
    "  def __init__(\n",
    "      self,\n",
    "      forward_reward_weight=1.25,\n",
    "      ctrl_cost_weight=0.1,\n",
    "      healthy_reward=5.0,\n",
    "      terminate_when_unhealthy=True,\n",
    "      healthy_z_range=(0.70, 0.0),\n",
    "      reset_noise_scale=1e-2,\n",
    "      exclude_current_positions_from_observation=True,\n",
    "      **kwargs,\n",
    "  ):\n",
    "    # Load the rodent model via dm_control\n",
    "    dm_rodent = rodent.Rodent()\n",
    "    physics = mjcf_dm.Physics.from_mjcf_model(dm_rodent.mjcf_model)\n",
    "    # mj_model = mujoco.MjModel.from_xml_path(params[\"XML_PATH\"])\n",
    "    mj_model = physics.model.ptr\n",
    "    mj_model.opt.solver = mujoco.mjtSolver.mjSOL_CG\n",
    "    mj_model.opt.iterations = 2\n",
    "    mj_model.opt.ls_iterations = 4\n",
    "\n",
    "    sys = mjcf_brax.load_model(mj_model)\n",
    "\n",
    "    physics_steps_per_control_step = 3\n",
    "    kwargs['n_frames'] = kwargs.get(\n",
    "        'n_frames', physics_steps_per_control_step\n",
    "    )\n",
    "    kwargs['backend'] = 'mjx'\n",
    "\n",
    "    super().__init__(sys, **kwargs)\n",
    "\n",
    "    self._forward_reward_weight = forward_reward_weight\n",
    "    self._ctrl_cost_weight = ctrl_cost_weight\n",
    "    self._healthy_reward = healthy_reward\n",
    "    self._terminate_when_unhealthy = terminate_when_unhealthy\n",
    "    self._healthy_z_range = healthy_z_range\n",
    "    self._reset_noise_scale = reset_noise_scale\n",
    "    self._exclude_current_positions_from_observation = (\n",
    "        exclude_current_positions_from_observation\n",
    "    )\n",
    "\n",
    "  def reset(self, rng: jp.ndarray) -> State:\n",
    "    \"\"\"Resets the environment to an initial state.\"\"\"\n",
    "    rng, rng1, rng2 = jax.random.split(rng, 3)\n",
    "\n",
    "    low, hi = -self._reset_noise_scale, self._reset_noise_scale\n",
    "    # initialize random position\n",
    "    qpos = self.sys.qpos0 + jax.random.uniform(\n",
    "        rng1, (self.sys.nq,), minval=low, maxval=hi\n",
    "    )\n",
    "    qvel = jax.random.uniform(\n",
    "        rng2, (self.sys.nv,), minval=low, maxval=hi\n",
    "    )\n",
    "\n",
    "    # initialize the data space\n",
    "    data = self.pipeline_init(qpos, qvel)\n",
    "\n",
    "    # get observation\n",
    "    obs = self._get_obs(data, jp.zeros(self.sys.nu))\n",
    "    reward, done, zero = jp.zeros(3)\n",
    "    metrics = {\n",
    "        'forward_reward': zero,\n",
    "        'reward_linvel': zero,\n",
    "        'reward_quadctrl': zero,\n",
    "        'reward_alive': zero,\n",
    "        'x_position': zero,\n",
    "        'y_position': zero,\n",
    "        'distance_from_origin': zero,\n",
    "        'x_velocity': zero,\n",
    "        'y_velocity': zero,\n",
    "    }\n",
    "    return State(data, obs, reward, done, metrics)\n",
    "\n",
    "  def step(self, state: State, action: jp.ndarray) -> State:\n",
    "    \"\"\"Runs one timestep of the environment's dynamics.\"\"\"\n",
    "    data0 = state.pipeline_state\n",
    "    data = self.pipeline_step(data0, action)\n",
    "\n",
    "    com_before = data0.subtree_com[1]\n",
    "    com_after = data.subtree_com[1]\n",
    "    velocity = (com_after - com_before) / self.dt\n",
    "    forward_reward = self._forward_reward_weight * velocity[0]\n",
    "\n",
    "    min_z, max_z = self._healthy_z_range\n",
    "    is_healthy = jp.where(data.q[2] < min_z, 0.0, 1.0)\n",
    "    if self._terminate_when_unhealthy:\n",
    "      healthy_reward = self._healthy_reward\n",
    "    else:\n",
    "      healthy_reward = self._healthy_reward * is_healthy\n",
    "\n",
    "    ctrl_cost = self._ctrl_cost_weight * jp.sum(jp.square(action))\n",
    "\n",
    "    obs = self._get_obs(data, action)\n",
    "    reward = forward_reward + healthy_reward - ctrl_cost\n",
    "    done = 1.0 - is_healthy if self._terminate_when_unhealthy else 0.0\n",
    "    state.metrics.update(\n",
    "        forward_reward=forward_reward,\n",
    "        reward_linvel=forward_reward,\n",
    "        reward_quadctrl=-ctrl_cost,\n",
    "        reward_alive=healthy_reward,\n",
    "        x_position=com_after[0],\n",
    "        y_position=com_after[1],\n",
    "        distance_from_origin=jp.linalg.norm(com_after),\n",
    "        x_velocity=velocity[0],\n",
    "        y_velocity=velocity[1],\n",
    "    )\n",
    "\n",
    "    return state.replace(\n",
    "        pipeline_state=data, obs=obs, reward=reward, done=done\n",
    "    )\n",
    "\n",
    "  def _get_obs(\n",
    "      self, data: mjx.Data, action: jp.ndarray\n",
    "  ) -> jp.ndarray:\n",
    "    \"\"\"Observes rodent body position, velocities, and angles.\"\"\"\n",
    "\n",
    "    # external_contact_forces are excluded\n",
    "    return jp.concatenate([\n",
    "    ])\n",
    "\n",
    "\n",
    "envs.register_environment('rodent', Rodent)"
   ]
  },
  {
   "cell_type": "code",
   "execution_count": null,
   "metadata": {},
   "outputs": [],
   "source": []
  },
  {
   "cell_type": "code",
   "execution_count": null,
   "metadata": {},
   "outputs": [],
   "source": []
  }
 ],
 "metadata": {
  "kernelspec": {
   "display_name": "stac-mjx",
   "language": "python",
   "name": "python3"
  },
  "language_info": {
   "codemirror_mode": {
    "name": "ipython",
    "version": 3
   },
   "file_extension": ".py",
   "mimetype": "text/x-python",
   "name": "python",
   "nbconvert_exporter": "python",
   "pygments_lexer": "ipython3",
   "version": "3.12.1"
  }
 },
 "nbformat": 4,
 "nbformat_minor": 2
}
