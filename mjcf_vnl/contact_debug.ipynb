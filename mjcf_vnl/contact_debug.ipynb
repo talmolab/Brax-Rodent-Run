{
 "cells": [
  {
   "cell_type": "code",
   "execution_count": 28,
   "metadata": {},
   "outputs": [],
   "source": [
    "import dm_control\n",
    "from dm_control.locomotion.walkers.rodent import Rat\n",
    "import mujoco\n",
    "from mujoco import mjx"
   ]
  },
  {
   "cell_type": "code",
   "execution_count": 32,
   "metadata": {},
   "outputs": [
    {
     "name": "stdout",
     "output_type": "stream",
     "text": [
      "mjx:\n",
      "contact.dist: [0.00950091 0.00950091 0.00950091 ... 1.         1.         1.        ]\n",
      "contact.pos: [[-0.05830757  0.02226774  0.00475045]\n",
      " [-0.03503293  0.03073902  0.00475045]\n",
      " [-0.03503293 -0.030732    0.00475045]\n",
      " ...\n",
      " [ 0.07931589 -0.03952587  0.00852403]\n",
      " [ 0.07441641 -0.03788662  0.00682681]\n",
      " [ 0.07772896 -0.04159776  0.00797431]]\n",
      "contact.pos.shape: (4840, 3) \n",
      "\n",
      "mujoco:\n",
      "contact.dist: []\n",
      "contact.pos: []\n",
      "contact.pos.shape: (0, 3)\n"
     ]
    }
   ],
   "source": [
    "with open(\"../models/rodent_cpu.xml\", \"r\") as f:\n",
    "    XML_CPU = f.read()\n",
    "\n",
    "with open(\"../models/rodent_no_skin.xml\", \"r\") as f:\n",
    "    XML_JAX = f.read()\n",
    "\n",
    "mj_model = mujoco.MjModel.from_xml_string(XML_CPU)\n",
    "mj_model_mjx = mujoco.MjModel.from_xml_string(XML_JAX)\n",
    "\n",
    "print(\"mjx:\")\n",
    "\n",
    "model = mjx.device_put(mj_model_mjx)\n",
    "data = mjx.make_data(model)\n",
    "data = mjx.forward(model, data)\n",
    "print(f\"contact.dist: {data.contact.dist}\")\n",
    "print(f\"contact.pos: {data.contact.pos}\")\n",
    "print(f\"contact.pos.shape: {data.contact.pos.shape} \\n\")\n",
    "\n",
    "mj_data = mujoco.MjData(mj_model)\n",
    "mujoco.mj_forward(mj_model, mj_data)\n",
    "\n",
    "print(\"mujoco:\")\n",
    "print(f\"contact.dist: {mj_data.contact.dist}\")\n",
    "print(f\"contact.pos: {mj_data.contact.pos}\")\n",
    "print(f\"contact.pos.shape: {mj_data.contact.pos.shape}\")"
   ]
  },
  {
   "cell_type": "code",
   "execution_count": 30,
   "metadata": {},
   "outputs": [
    {
     "name": "stdout",
     "output_type": "stream",
     "text": [
      "mujoco:\n",
      "contact.dist: []\n",
      "contact.pos: []\n",
      "contact.pos.shape: (0, 3)\n"
     ]
    }
   ],
   "source": [
    "mj_model = mujoco.MjModel.from_xml_string(XML_CPU)\n",
    "mj_data = mujoco.MjData(mj_model)\n",
    "mujoco.mj_forward(mj_model, mj_data)\n",
    "\n",
    "print(\"mujoco:\")\n",
    "print(f\"contact.dist: {mj_data.contact.dist}\")\n",
    "print(f\"contact.pos: {mj_data.contact.pos}\")\n",
    "print(f\"contact.pos.shape: {mj_data.contact.pos.shape}\")"
   ]
  },
  {
   "cell_type": "code",
   "execution_count": 31,
   "metadata": {},
   "outputs": [
    {
     "name": "stdout",
     "output_type": "stream",
     "text": [
      "mjx:\n",
      "contact.dist: [1. 1.]\n",
      "contact.pos: [[0.         0.02500001 0.85      ]\n",
      " [0.         0.02500001 1.15      ]]\n",
      "mujoco:\n",
      "contact.dist: [0.6 0.9]\n",
      "contact.pos: [[0.   0.   0.4 ]\n",
      " [0.   0.   0.55]]\n"
     ]
    }
   ],
   "source": [
    "import mujoco\n",
    "from mujoco import mjx\n",
    "\n",
    "XML=r\"\"\"\n",
    "<mujoco>\n",
    "<option>\n",
    "  <flag gravity=\"disable\"/>\n",
    "</option>\n",
    "\n",
    "<worldbody>\n",
    "  <body pos=\"0 0 0\">\n",
    "    <freejoint/>\n",
    "    <geom type=\"box\" size=\".1 .1 .1\" name=\"box\" rgba=\"1 1 1 0.25\"/>\n",
    "    <site pos=\"0 0.02500001 0.85\" size=\"0.025\" rgba=\"1 0 0 1\"/>\n",
    "    <site pos=\"0 0.02500001 1.15\" size=\"0.025\" rgba=\"1 0 0 1\"/>\n",
    "  </body>\n",
    "\n",
    "  <body pos=\"0 0 1\">\n",
    "    <freejoint/>\n",
    "    <geom type=\"capsule\" size=\".15 .15\" name=\"capsule\" rgba=\"1 1 1 0.25\"/>\n",
    "  </body>\n",
    "</worldbody>\n",
    "\n",
    "<contact>\n",
    "  <pair geom1=\"box\" geom2=\"capsule\" margin=\"100\"/>\n",
    "</contact>\n",
    "</mujoco>\n",
    "\"\"\"\n",
    "\n",
    "mj_model = mujoco.MjModel.from_xml_string(XML)\n",
    "model = mjx.device_put(mj_model)\n",
    "data = mjx.make_data(model)\n",
    "data = mjx.forward(model, data)\n",
    "\n",
    "print(\"mjx:\")\n",
    "print(f\"contact.dist: {data.contact.dist}\")\n",
    "print(f\"contact.pos: {data.contact.pos}\")\n",
    "\n",
    "mj_data = mujoco.MjData(mj_model)\n",
    "mujoco.mj_forward(mj_model, mj_data)\n",
    "\n",
    "print(\"mujoco:\")\n",
    "print(f\"contact.dist: {mj_data.contact.dist}\")\n",
    "print(f\"contact.pos: {mj_data.contact.pos}\")"
   ]
  },
  {
   "cell_type": "code",
   "execution_count": null,
   "metadata": {},
   "outputs": [],
   "source": []
  }
 ],
 "metadata": {
  "kernelspec": {
   "display_name": "mujoco",
   "language": "python",
   "name": "python3"
  },
  "language_info": {
   "codemirror_mode": {
    "name": "ipython",
    "version": 3
   },
   "file_extension": ".py",
   "mimetype": "text/x-python",
   "name": "python",
   "nbconvert_exporter": "python",
   "pygments_lexer": "ipython3",
   "version": "3.12.0"
  }
 },
 "nbformat": 4,
 "nbformat_minor": 2
}
