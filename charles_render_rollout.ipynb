{
 "cells": [
  {
   "cell_type": "markdown",
   "id": "e19371b8-9c17-4b5a-98ec-1d756117011f",
   "metadata": {},
   "source": [
    "# Normalized Rendering"
   ]
  },
  {
   "cell_type": "code",
   "execution_count": 1,
   "id": "f2d15035-d974-402d-9b6a-f86e2a29e37c",
   "metadata": {},
   "outputs": [],
   "source": [
    "import functools\n",
    "import jax\n",
    "from jax import numpy as jp\n",
    "import numpy as np\n",
    "from typing import Dict\n",
    "import wandb\n",
    "\n",
    "from brax import envs\n",
    "from brax.io import model\n",
    "\n",
    "import mujoco\n",
    "import os\n",
    "\n",
    "import yaml\n",
    "from typing import Dict, Text\n",
    "\n",
    "from vnl_brax.base import Walker"
   ]
  },
  {
   "cell_type": "code",
   "execution_count": 2,
   "id": "944c14b9-7556-49ca-8eba-f68750b648cd",
   "metadata": {},
   "outputs": [],
   "source": [
    "# use same config as how u trained the agent \n",
    "config = {\n",
    "    \"env_name\": \"rodent\",\n",
    "    \"algo_name\": \"ppo\",\n",
    "    \"task_name\": \"run\",\n",
    "    \"num_envs\": 1,\n",
    "    \"num_timesteps\": 500_000_000,\n",
    "    \"eval_every\": 1_000_000,\n",
    "    \"episode_length\": 1000,\n",
    "    \"batch_size\": 1,\n",
    "    \"learning_rate\": 5e-5,\n",
    "    \"terminate_when_unhealthy\": True,\n",
    "    \"run_platform\": \"Harvard\",\n",
    "    \"solver\": \"cg\",\n",
    "    \"iterations\": 6,\n",
    "    \"ls_iterations\": 3,\n",
    "}\n",
    "\n",
    "envs.register_environment('rodent', Walker)\n",
    "\n",
    "# instantiate the environment\n",
    "env_name = config[\"env_name\"]\n",
    "env = envs.get_environment(env_name, \n",
    "                           terminate_when_unhealthy=config[\"terminate_when_unhealthy\"],\n",
    "                           solver=config['solver'],\n",
    "                           iterations=config['iterations'],\n",
    "                           ls_iterations=config['ls_iterations'])"
   ]
  },
  {
   "cell_type": "code",
   "execution_count": 3,
   "id": "e5750041-5301-4e6a-9325-55fa0af5210c",
   "metadata": {},
   "outputs": [],
   "source": [
    "# from brax.training.agents.ppo import networks as brax_networks\n",
    "import vnl_brax.networks_vision as brax_networks\n",
    "from brax.training.acme import running_statistics\n",
    "\n",
    "from typing import Any, Dict, Sequence, Tuple, Union, Optional\n",
    "\n",
    "# Copy and pasted from https://github.com/google/brax/discussions/403#discussioncomment-7287194\n",
    "def make_inference_fn(\n",
    "    observation_size: int,\n",
    "    action_size: int,\n",
    "    normalize_observations: bool = False,\n",
    "    network_factory_kwargs: Optional[Dict[str, Any]] = None,\n",
    "):\n",
    "  normalize = running_statistics.normalize if normalize_observations else lambda x, y: x\n",
    "  ppo_network = brax_networks.make_ppo_networks(\n",
    "      observation_size,\n",
    "      action_size,\n",
    "      preprocess_observations_fn=normalize,\n",
    "      **(network_factory_kwargs or {}),\n",
    "  )\n",
    "  make_policy = brax_networks.make_inference_fn(ppo_network)\n",
    "  return make_policy\n",
    "\n",
    "make_policy = make_inference_fn(\n",
    "    observation_size=env.observation_size,\n",
    "    action_size=env.action_size,\n",
    "    normalize_observations = True,\n",
    ")"
   ]
  },
  {
   "cell_type": "code",
   "execution_count": 4,
   "id": "4d790f09-52a8-4cd0-8afc-3cc57d3918da",
   "metadata": {},
   "outputs": [],
   "source": [
    "model_path = './good_models/brax_rodent_2.0'\n",
    "params = model.load_params(model_path)\n",
    "jit_inference_fn = jax.jit(make_policy(params, deterministic=False))"
   ]
  },
  {
   "cell_type": "markdown",
   "id": "9e4b353a-7b58-416f-903e-bf9bbc8c12ec",
   "metadata": {},
   "source": [
    "## Render the Clip"
   ]
  },
  {
   "cell_type": "code",
   "execution_count": 5,
   "id": "9a39db86-dc57-41ce-89ce-3b92774d304e",
   "metadata": {},
   "outputs": [
    {
     "name": "stderr",
     "output_type": "stream",
     "text": [
      "/Users/kevinb/Desktop/salk/rodent/kevin-dev-brax/.venv/lib/python3.10/site-packages/matplotlib_inline/config.py:68: DeprecationWarning: InlineBackend._figure_format_changed is deprecated in traitlets 4.1: use @observe and @unobserve instead.\n",
      "  def _figure_format_changed(self, name, old, new):\n"
     ]
    }
   ],
   "source": [
    "import mediapy as media\n",
    "from tqdm import tqdm\n",
    "import matplotlib.pyplot as plt\n",
    "%matplotlib inline\n",
    "%config InlineBackend.figure_format='retina'\n",
    "\n",
    "# define the jit reset/step functions\n",
    "jit_reset = jax.jit(env.reset)\n",
    "jit_step = jax.jit(env.step)"
   ]
  },
  {
   "cell_type": "code",
   "execution_count": 6,
   "id": "1cf016c3",
   "metadata": {},
   "outputs": [
    {
     "data": {
      "text/plain": [
       "Array(0.006, dtype=float32, weak_type=True)"
      ]
     },
     "execution_count": 6,
     "metadata": {},
     "output_type": "execute_result"
    }
   ],
   "source": [
    "env.dt"
   ]
  },
  {
   "cell_type": "code",
   "execution_count": 7,
   "id": "ac49dd5a",
   "metadata": {},
   "outputs": [
    {
     "name": "stderr",
     "output_type": "stream",
     "text": [
      "  0%|          | 0/100 [00:00<?, ?it/s]"
     ]
    },
    {
     "name": "stdout",
     "output_type": "stream",
     "text": [
      "Before into ConvNet + vmap shape: (64, 64, 3)\n",
      "This is out of CovNet (8, 8, 1)\n",
      "this is out of full ppo network (60,)\n",
      "logits: Traced<ShapedArray(float32[60])>with<DynamicJaxprTrace(level=1/0)>\n"
     ]
    },
    {
     "name": "stderr",
     "output_type": "stream",
     "text": [
      "100%|██████████| 100/100 [03:26<00:00,  2.07s/it] \n"
     ]
    }
   ],
   "source": [
    "# initialize the state\n",
    "rng = jax.random.PRNGKey(0)\n",
    "state = jit_reset(rng)\n",
    "rollout = [state.pipeline_state]\n",
    "states = [state]\n",
    "\n",
    "# grab a trajectory\n",
    "n_steps = 100\n",
    "render_every = 1\n",
    "action_repeat = 1\n",
    "# might becasue brax does not clip the action to the xml limit in the model\n",
    "for i in tqdm(range(n_steps)):\n",
    "  act_rng, rng = jax.random.split(rng)\n",
    "  \n",
    "  if i % action_repeat == 0:\n",
    "    ctrl, _ = jit_inference_fn(state.obs, act_rng)\n",
    "  \n",
    "  state = jit_step(state, ctrl)\n",
    "  \n",
    "  rollout.append(state.pipeline_state)\n",
    "  states.append(state)"
   ]
  },
  {
   "cell_type": "code",
   "execution_count": 8,
   "id": "c9590a3a",
   "metadata": {},
   "outputs": [
    {
     "data": {
      "text/html": [
       "<table class=\"show_videos\" style=\"border-spacing:0px;\"><tr><td style=\"padding:1px;\"><video controls width=\"320\" height=\"240\" style=\"object-fit:cover;\" loop autoplay muted>\n",
       "      <source src=\"data:video/mp4;base64,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\" type=\"video/mp4\"/>\n",
       "      This browser does not support the video tag.\n",
       "      </video></td></tr></table>"
      ],
      "text/plain": [
       "<IPython.core.display.HTML object>"
      ]
     },
     "metadata": {},
     "output_type": "display_data"
    }
   ],
   "source": [
    "media.show_video(env.render(rollout[::render_every], camera='back_camera'), fps=1.0 / env.dt / render_every)"
   ]
  },
  {
   "cell_type": "code",
   "execution_count": 8,
   "id": "450f2f9b-2ad4-4719-a20d-3f7bfab3f3c5",
   "metadata": {},
   "outputs": [],
   "source": [
    "# import imageio\n",
    "# os.environ[\"MUJOCO_GL\"] = \"glfw\"\n",
    "# video_path = model_path + '.mp4'\n",
    "# with imageio.get_writer(video_path, fps=1.0 / env.dt / render_every) as video:\n",
    "#     video = env.render(rollout[::render_every], camera='close_profile', height=500, width=500)\n",
    "    \n",
    "# media.show_video(video, fps=1.0 / env.dt / render_every)"
   ]
  },
  {
   "cell_type": "code",
   "execution_count": 9,
   "id": "c74b6312",
   "metadata": {},
   "outputs": [],
   "source": [
    "# import cv2\n",
    "# import PIL.Image\n",
    "\n",
    "# qs = [r.q for r in rollout]\n",
    "# rewards = [r.reward for r in states]"
   ]
  },
  {
   "cell_type": "code",
   "execution_count": 10,
   "id": "5e34648b",
   "metadata": {},
   "outputs": [],
   "source": [
    "# states[-1].metrics"
   ]
  },
  {
   "cell_type": "code",
   "execution_count": 11,
   "id": "1fd0832a",
   "metadata": {},
   "outputs": [],
   "source": [
    "# import matplotlib.pyplot as plt\n",
    "# %matplotlib inline\n",
    "# %config InlineBackend.figure_format='retina'\n",
    "# plt.plot(np.cumsum(rewards))\n",
    "# plt.show()\n"
   ]
  },
  {
   "cell_type": "code",
   "execution_count": 12,
   "id": "487b6bc4",
   "metadata": {},
   "outputs": [],
   "source": [
    "# len(qs[0])"
   ]
  },
  {
   "cell_type": "code",
   "execution_count": 13,
   "id": "bd8aefa1",
   "metadata": {},
   "outputs": [],
   "source": [
    "# def plot_kinematics(qs, up_to, idx=-1, total_len=2000):\n",
    "#     fig = plt.figure(figsize=(5, 5))\n",
    "#     if idx == -1:\n",
    "#         qs = [r.q for r in rollout[:up_to]]\n",
    "#         for _idx in range(len(qs[0])):\n",
    "#             plt.scatter(up_to, qs[up_to-1][_idx], c=\"r\")\n",
    "#     else:\n",
    "#         # qs = [r.subtree_com[1][idx] for r in rollout[:up_to]]\n",
    "#         qs = [r.q[idx] for r in rollout[:up_to]]\n",
    "#         plt.scatter(up_to, qs[up_to-1], c=\"r\")\n",
    "        \n",
    "#     _ = plt.plot(qs, alpha=0.8)\n",
    "#     plt.xlim(0, total_len)\n",
    "#     plt.ylim(-0.15, 0.15)\n",
    "#     plt.axvline(x=up_to, c=\"r\")\n",
    "    \n",
    "#     plt.title(f\"r.q[{idx}] Trajectory\")\n",
    "#     fig.canvas.draw()\n",
    "#     graph = np.array(PIL.Image.frombytes('RGB', fig.canvas.get_width_height(), fig.canvas.tostring_rgb()))\n",
    "#     graph = cv2.resize(graph, dsize=(500, 500), interpolation=cv2.INTER_CUBIC)\n",
    "#     return graph\n",
    "\n",
    "\n",
    "# def stack_vids(vids, qs, up_to=500, target_idx=2):\n",
    "#     concat_vids = []\n",
    "#     for idx, frame in tqdm(enumerate(vids[:up_to])):\n",
    "#         plot = plot_kinematics(qs, idx+1, idx=target_idx, total_len=up_to)\n",
    "#         total = np.hstack((frame, plot))\n",
    "#         concat_vids.append(total)\n",
    "#     return concat_vids"
   ]
  },
  {
   "cell_type": "code",
   "execution_count": 14,
   "id": "b2f2ea2d",
   "metadata": {},
   "outputs": [],
   "source": [
    "# import matplotlib\n",
    "# matplotlib.use('svg') "
   ]
  },
  {
   "cell_type": "code",
   "execution_count": 15,
   "id": "61dc2521",
   "metadata": {},
   "outputs": [],
   "source": [
    "# import warnings\n",
    "# warnings.filterwarnings(\"ignore\")\n",
    "# import matplotlib\n",
    "# matplotlib.use('Agg')  # Switch to headless 'Agg' to inhibit figure rendering.\n",
    "\n",
    "# videos = stack_vids(video, qs, target_idx=2)"
   ]
  },
  {
   "cell_type": "code",
   "execution_count": 16,
   "id": "960e142b",
   "metadata": {},
   "outputs": [],
   "source": [
    "# media.show_video(videos, fps=30)"
   ]
  },
  {
   "cell_type": "code",
   "execution_count": 17,
   "id": "b7850c3d",
   "metadata": {},
   "outputs": [],
   "source": [
    "# graph.shape"
   ]
  },
  {
   "cell_type": "code",
   "execution_count": 18,
   "id": "00480aad",
   "metadata": {},
   "outputs": [],
   "source": [
    "# which = 2\n",
    "# front = 200\n",
    "# qs = [r.q[which] for r in rollout[:front]]\n",
    "# _ = plt.plot(qs, alpha=0.8)\n",
    "# plt.xlim(0, 2000)\n",
    "# plt.axvline(x=front, c=\"r\")\n",
    "# plt.scatter(front, qs[front-1], c=\"r\")\n",
    "# plt.title(f\"r.q[{which}] Trajectory\")"
   ]
  },
  {
   "cell_type": "code",
   "execution_count": null,
   "id": "1e78d3e7",
   "metadata": {},
   "outputs": [],
   "source": []
  }
 ],
 "metadata": {
  "kernelspec": {
   "display_name": "rl",
   "language": "python",
   "name": "python3"
  },
  "language_info": {
   "codemirror_mode": {
    "name": "ipython",
    "version": 3
   },
   "file_extension": ".py",
   "mimetype": "text/x-python",
   "name": "python",
   "nbconvert_exporter": "python",
   "pygments_lexer": "ipython3",
   "version": "3.10.9"
  }
 },
 "nbformat": 4,
 "nbformat_minor": 5
}
