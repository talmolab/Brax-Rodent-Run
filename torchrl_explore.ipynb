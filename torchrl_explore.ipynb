{
 "cells": [
  {
   "cell_type": "code",
   "execution_count": 9,
   "metadata": {},
   "outputs": [],
   "source": [
    "from torchrl.envs import BraxWrapper\n",
    "import brax.envs as envs\n",
    "from Rodent_Env_Brax import Rodent"
   ]
  },
  {
   "cell_type": "code",
   "execution_count": 10,
   "metadata": {},
   "outputs": [],
   "source": [
    "envs.register_environment(\"rodent\", Rodent)"
   ]
  },
  {
   "cell_type": "code",
   "execution_count": 11,
   "metadata": {},
   "outputs": [
    {
     "ename": "NotImplementedError",
     "evalue": "unsupported data type <class 'tuple'>",
     "output_type": "error",
     "traceback": [
      "\u001b[0;31m---------------------------------------------------------------------------\u001b[0m",
      "\u001b[0;31mNotImplementedError\u001b[0m                       Traceback (most recent call last)",
      "\u001b[1;32m/home/charles/github/Brax-Rodent-Run-1/torchrl_explore.ipynb Cell 3\u001b[0m line \u001b[0;36m1\n\u001b[0;32m----> <a href='vscode-notebook-cell:/home/charles/github/Brax-Rodent-Run-1/torchrl_explore.ipynb#W1sZmlsZQ%3D%3D?line=0'>1</a>\u001b[0m env \u001b[39m=\u001b[39m BraxWrapper(envs\u001b[39m.\u001b[39;49mget_environment(\u001b[39m\"\u001b[39;49m\u001b[39mrodent\u001b[39;49m\u001b[39m\"\u001b[39;49m))\n",
      "File \u001b[0;32m~/miniconda3/envs/rl/lib/python3.11/site-packages/torchrl/envs/common.py:158\u001b[0m, in \u001b[0;36m_EnvPostInit.__call__\u001b[0;34m(cls, *args, **kwargs)\u001b[0m\n\u001b[1;32m    157\u001b[0m \u001b[39mdef\u001b[39;00m \u001b[39m__call__\u001b[39m(\u001b[39mcls\u001b[39m, \u001b[39m*\u001b[39margs, \u001b[39m*\u001b[39m\u001b[39m*\u001b[39mkwargs):\n\u001b[0;32m--> 158\u001b[0m     instance: EnvBase \u001b[39m=\u001b[39m \u001b[39msuper\u001b[39;49m()\u001b[39m.\u001b[39;49m\u001b[39m__call__\u001b[39;49m(\u001b[39m*\u001b[39;49margs, \u001b[39m*\u001b[39;49m\u001b[39m*\u001b[39;49mkwargs)\n\u001b[1;32m    159\u001b[0m     \u001b[39m# we create the done spec by adding a done/terminated entry if one is missing\u001b[39;00m\n\u001b[1;32m    160\u001b[0m     instance\u001b[39m.\u001b[39m_create_done_specs()\n",
      "File \u001b[0;32m~/miniconda3/envs/rl/lib/python3.11/site-packages/torchrl/envs/libs/brax.py:203\u001b[0m, in \u001b[0;36mBraxWrapper.__init__\u001b[0;34m(self, env, categorical_action_encoding, **kwargs)\u001b[0m\n\u001b[1;32m    201\u001b[0m \u001b[39mself\u001b[39m\u001b[39m.\u001b[39m_seed_calls_reset \u001b[39m=\u001b[39m \u001b[39mNone\u001b[39;00m\n\u001b[1;32m    202\u001b[0m \u001b[39mself\u001b[39m\u001b[39m.\u001b[39m_categorical_action_encoding \u001b[39m=\u001b[39m categorical_action_encoding\n\u001b[0;32m--> 203\u001b[0m \u001b[39msuper\u001b[39;49m()\u001b[39m.\u001b[39;49m\u001b[39m__init__\u001b[39;49m(\u001b[39m*\u001b[39;49m\u001b[39m*\u001b[39;49mkwargs)\n",
      "File \u001b[0;32m~/miniconda3/envs/rl/lib/python3.11/site-packages/torchrl/envs/common.py:2820\u001b[0m, in \u001b[0;36m_EnvWrapper.__init__\u001b[0;34m(self, dtype, device, batch_size, allow_done_after_reset, *args, **kwargs)\u001b[0m\n\u001b[1;32m   2818\u001b[0m \u001b[39mself\u001b[39m\u001b[39m.\u001b[39m_check_kwargs(kwargs)\n\u001b[1;32m   2819\u001b[0m \u001b[39mself\u001b[39m\u001b[39m.\u001b[39m_env \u001b[39m=\u001b[39m \u001b[39mself\u001b[39m\u001b[39m.\u001b[39m_build_env(\u001b[39m*\u001b[39m\u001b[39m*\u001b[39mkwargs)  \u001b[39m# writes the self._env attribute\u001b[39;00m\n\u001b[0;32m-> 2820\u001b[0m \u001b[39mself\u001b[39;49m\u001b[39m.\u001b[39;49m_make_specs(\u001b[39mself\u001b[39;49m\u001b[39m.\u001b[39;49m_env)  \u001b[39m# writes the self._env attribute\u001b[39;00m\n\u001b[1;32m   2821\u001b[0m \u001b[39mself\u001b[39m\u001b[39m.\u001b[39mis_closed \u001b[39m=\u001b[39m \u001b[39mFalse\u001b[39;00m\n\u001b[1;32m   2822\u001b[0m \u001b[39mself\u001b[39m\u001b[39m.\u001b[39m_init_env()\n",
      "File \u001b[0;32m~/miniconda3/envs/rl/lib/python3.11/site-packages/torchrl/envs/libs/brax.py:272\u001b[0m, in \u001b[0;36mBraxWrapper._make_specs\u001b[0;34m(self, env)\u001b[0m\n\u001b[1;32m    261\u001b[0m \u001b[39mself\u001b[39m\u001b[39m.\u001b[39mobservation_spec \u001b[39m=\u001b[39m CompositeSpec(\n\u001b[1;32m    262\u001b[0m     observation\u001b[39m=\u001b[39mUnboundedContinuousTensorSpec(\n\u001b[1;32m    263\u001b[0m         shape\u001b[39m=\u001b[39m(\n\u001b[0;32m   (...)\u001b[0m\n\u001b[1;32m    269\u001b[0m     shape\u001b[39m=\u001b[39m\u001b[39mself\u001b[39m\u001b[39m.\u001b[39mbatch_size,\n\u001b[1;32m    270\u001b[0m )\n\u001b[1;32m    271\u001b[0m \u001b[39m# extract state spec from instance\u001b[39;00m\n\u001b[0;32m--> 272\u001b[0m state_spec \u001b[39m=\u001b[39m \u001b[39mself\u001b[39;49m\u001b[39m.\u001b[39;49m_make_state_spec(env)\n\u001b[1;32m    273\u001b[0m \u001b[39mself\u001b[39m\u001b[39m.\u001b[39mstate_spec[\u001b[39m\"\u001b[39m\u001b[39mstate\u001b[39m\u001b[39m\"\u001b[39m] \u001b[39m=\u001b[39m state_spec\n\u001b[1;32m    274\u001b[0m \u001b[39mself\u001b[39m\u001b[39m.\u001b[39mobservation_spec[\u001b[39m\"\u001b[39m\u001b[39mstate\u001b[39m\u001b[39m\"\u001b[39m] \u001b[39m=\u001b[39m state_spec\u001b[39m.\u001b[39mclone()\n",
      "File \u001b[0;32m~/miniconda3/envs/rl/lib/python3.11/site-packages/torchrl/envs/libs/brax.py:240\u001b[0m, in \u001b[0;36mBraxWrapper._make_state_spec\u001b[0;34m(self, env)\u001b[0m\n\u001b[1;32m    238\u001b[0m key \u001b[39m=\u001b[39m jax\u001b[39m.\u001b[39mrandom\u001b[39m.\u001b[39mPRNGKey(\u001b[39m0\u001b[39m)\n\u001b[1;32m    239\u001b[0m state \u001b[39m=\u001b[39m env\u001b[39m.\u001b[39mreset(key)\n\u001b[0;32m--> 240\u001b[0m state_dict \u001b[39m=\u001b[39m _object_to_tensordict(state, \u001b[39mself\u001b[39;49m\u001b[39m.\u001b[39;49mdevice, batch_size\u001b[39m=\u001b[39;49m())\n\u001b[1;32m    241\u001b[0m state_spec \u001b[39m=\u001b[39m _extract_spec(state_dict)\u001b[39m.\u001b[39mexpand(\u001b[39mself\u001b[39m\u001b[39m.\u001b[39mbatch_size)\n\u001b[1;32m    242\u001b[0m \u001b[39mreturn\u001b[39;00m state_spec\n",
      "File \u001b[0;32m~/miniconda3/envs/rl/lib/python3.11/site-packages/torchrl/envs/libs/jax_utils.py:101\u001b[0m, in \u001b[0;36m_object_to_tensordict\u001b[0;34m(obj, device, batch_size)\u001b[0m\n\u001b[1;32m     99\u001b[0m     t[name] \u001b[39m=\u001b[39m _ndarray_to_tensor(value)\u001b[39m.\u001b[39mto(device)\n\u001b[1;32m    100\u001b[0m \u001b[39melse\u001b[39;00m:\n\u001b[0;32m--> 101\u001b[0m     nested \u001b[39m=\u001b[39m _object_to_tensordict(value, device, batch_size)\n\u001b[1;32m    102\u001b[0m     \u001b[39mif\u001b[39;00m nested \u001b[39mis\u001b[39;00m \u001b[39mnot\u001b[39;00m \u001b[39mNone\u001b[39;00m:\n\u001b[1;32m    103\u001b[0m         t[name] \u001b[39m=\u001b[39m nested\n",
      "File \u001b[0;32m~/miniconda3/envs/rl/lib/python3.11/site-packages/torchrl/envs/libs/jax_utils.py:101\u001b[0m, in \u001b[0;36m_object_to_tensordict\u001b[0;34m(obj, device, batch_size)\u001b[0m\n\u001b[1;32m     99\u001b[0m     t[name] \u001b[39m=\u001b[39m _ndarray_to_tensor(value)\u001b[39m.\u001b[39mto(device)\n\u001b[1;32m    100\u001b[0m \u001b[39melse\u001b[39;00m:\n\u001b[0;32m--> 101\u001b[0m     nested \u001b[39m=\u001b[39m _object_to_tensordict(value, device, batch_size)\n\u001b[1;32m    102\u001b[0m     \u001b[39mif\u001b[39;00m nested \u001b[39mis\u001b[39;00m \u001b[39mnot\u001b[39;00m \u001b[39mNone\u001b[39;00m:\n\u001b[1;32m    103\u001b[0m         t[name] \u001b[39m=\u001b[39m nested\n",
      "File \u001b[0;32m~/miniconda3/envs/rl/lib/python3.11/site-packages/torchrl/envs/libs/jax_utils.py:101\u001b[0m, in \u001b[0;36m_object_to_tensordict\u001b[0;34m(obj, device, batch_size)\u001b[0m\n\u001b[1;32m     99\u001b[0m     t[name] \u001b[39m=\u001b[39m _ndarray_to_tensor(value)\u001b[39m.\u001b[39mto(device)\n\u001b[1;32m    100\u001b[0m \u001b[39melse\u001b[39;00m:\n\u001b[0;32m--> 101\u001b[0m     nested \u001b[39m=\u001b[39m _object_to_tensordict(value, device, batch_size)\n\u001b[1;32m    102\u001b[0m     \u001b[39mif\u001b[39;00m nested \u001b[39mis\u001b[39;00m \u001b[39mnot\u001b[39;00m \u001b[39mNone\u001b[39;00m:\n\u001b[1;32m    103\u001b[0m         t[name] \u001b[39m=\u001b[39m nested\n",
      "File \u001b[0;32m~/miniconda3/envs/rl/lib/python3.11/site-packages/torchrl/envs/libs/jax_utils.py:94\u001b[0m, in \u001b[0;36m_object_to_tensordict\u001b[0;34m(obj, device, batch_size)\u001b[0m\n\u001b[1;32m     91\u001b[0m \u001b[39mfrom\u001b[39;00m \u001b[39mjax\u001b[39;00m \u001b[39mimport\u001b[39;00m numpy \u001b[39mas\u001b[39;00m jnp\n\u001b[1;32m     93\u001b[0m t \u001b[39m=\u001b[39m {}\n\u001b[0;32m---> 94\u001b[0m _fields \u001b[39m=\u001b[39m _get_object_fields(obj)\n\u001b[1;32m     95\u001b[0m \u001b[39mfor\u001b[39;00m name, value \u001b[39min\u001b[39;00m _fields\u001b[39m.\u001b[39mitems():\n\u001b[1;32m     96\u001b[0m     \u001b[39mif\u001b[39;00m \u001b[39misinstance\u001b[39m(value, (np\u001b[39m.\u001b[39mnumber, \u001b[39mint\u001b[39m, \u001b[39mfloat\u001b[39m)):\n",
      "File \u001b[0;32m~/miniconda3/envs/rl/lib/python3.11/site-packages/torchrl/envs/libs/jax_utils.py:86\u001b[0m, in \u001b[0;36m_get_object_fields\u001b[0;34m(obj)\u001b[0m\n\u001b[1;32m     84\u001b[0m     \u001b[39mreturn\u001b[39;00m {}\n\u001b[1;32m     85\u001b[0m \u001b[39melse\u001b[39;00m:\n\u001b[0;32m---> 86\u001b[0m     \u001b[39mraise\u001b[39;00m \u001b[39mNotImplementedError\u001b[39;00m(\u001b[39mf\u001b[39m\u001b[39m\"\u001b[39m\u001b[39munsupported data type \u001b[39m\u001b[39m{\u001b[39;00m\u001b[39mtype\u001b[39m(obj)\u001b[39m}\u001b[39;00m\u001b[39m\"\u001b[39m)\n",
      "\u001b[0;31mNotImplementedError\u001b[0m: unsupported data type <class 'tuple'>"
     ]
    }
   ],
   "source": [
    "env = BraxWrapper(envs.get_environment(\"rodent\"))"
   ]
  },
  {
   "cell_type": "code",
   "execution_count": null,
   "metadata": {},
   "outputs": [],
   "source": []
  }
 ],
 "metadata": {
  "kernelspec": {
   "display_name": "rl",
   "language": "python",
   "name": "python3"
  },
  "language_info": {
   "codemirror_mode": {
    "name": "ipython",
    "version": 3
   },
   "file_extension": ".py",
   "mimetype": "text/x-python",
   "name": "python",
   "nbconvert_exporter": "python",
   "pygments_lexer": "ipython3",
   "version": "3.11.8"
  }
 },
 "nbformat": 4,
 "nbformat_minor": 2
}
