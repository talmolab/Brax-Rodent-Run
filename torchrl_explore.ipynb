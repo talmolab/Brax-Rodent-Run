{
 "cells": [
  {
   "cell_type": "code",
   "execution_count": 1,
   "metadata": {},
   "outputs": [],
   "source": [
    "from torchrl.envs import BraxWrapper\n",
    "import brax.envs as envs\n",
    "from Rodent_Env_Brax import Rodent"
   ]
  },
  {
   "cell_type": "code",
   "execution_count": 2,
   "metadata": {},
   "outputs": [],
   "source": [
    "envs.register_environment(\"rodent\", Rodent)"
   ]
  },
  {
   "cell_type": "code",
   "execution_count": 3,
   "metadata": {},
   "outputs": [],
   "source": [
    "env = BraxWrapper(envs.get_environment(\"rodent\"))"
   ]
  },
  {
   "cell_type": "code",
   "execution_count": 4,
   "metadata": {},
   "outputs": [
    {
     "name": "stdout",
     "output_type": "stream",
     "text": [
      "TensorDict(\n",
      "    fields={\n",
      "        done: Tensor(shape=torch.Size([1]), device=cpu, dtype=torch.bool, is_shared=False),\n",
      "        observation: Tensor(shape=torch.Size([1260]), device=cpu, dtype=torch.float32, is_shared=False),\n",
      "        state: TensorDict(\n",
      "            fields={\n",
      "                done: Tensor(shape=torch.Size([1]), device=cpu, dtype=torch.float32, is_shared=False),\n",
      "                metrics: TensorDict(\n",
      "                    fields={\n",
      "                        distance_from_origin: Tensor(shape=torch.Size([]), device=cpu, dtype=torch.float32, is_shared=False),\n",
      "                        forward_reward: Tensor(shape=torch.Size([]), device=cpu, dtype=torch.float32, is_shared=False),\n",
      "                        reward_alive: Tensor(shape=torch.Size([]), device=cpu, dtype=torch.float32, is_shared=False),\n",
      "                        reward_linvel: Tensor(shape=torch.Size([]), device=cpu, dtype=torch.float32, is_shared=False),\n",
      "                        reward_quadctrl: Tensor(shape=torch.Size([]), device=cpu, dtype=torch.float32, is_shared=False),\n",
      "                        x_position: Tensor(shape=torch.Size([]), device=cpu, dtype=torch.float32, is_shared=False),\n",
      "                        x_velocity: Tensor(shape=torch.Size([]), device=cpu, dtype=torch.float32, is_shared=False),\n",
      "                        y_position: Tensor(shape=torch.Size([]), device=cpu, dtype=torch.float32, is_shared=False),\n",
      "                        y_velocity: Tensor(shape=torch.Size([]), device=cpu, dtype=torch.float32, is_shared=False)},\n",
      "                    batch_size=torch.Size([]),\n",
      "                    device=cpu,\n",
      "                    is_shared=False),\n",
      "                obs: Tensor(shape=torch.Size([1260]), device=cpu, dtype=torch.float32, is_shared=False),\n",
      "                pipeline_state: TensorDict(\n",
      "                    fields={\n",
      "                        act: Tensor(shape=torch.Size([30]), device=cpu, dtype=torch.float32, is_shared=False),\n",
      "                        act_dot: Tensor(shape=torch.Size([30]), device=cpu, dtype=torch.float32, is_shared=False),\n",
      "                        actuator_length: Tensor(shape=torch.Size([30]), device=cpu, dtype=torch.float32, is_shared=False),\n",
      "                        actuator_moment: Tensor(shape=torch.Size([30, 73]), device=cpu, dtype=torch.float32, is_shared=False),\n",
      "                        actuator_velocity: Tensor(shape=torch.Size([30]), device=cpu, dtype=torch.float32, is_shared=False),\n",
      "                        cam_xmat: Tensor(shape=torch.Size([7, 3, 3]), device=cpu, dtype=torch.float32, is_shared=False),\n",
      "                        cam_xpos: Tensor(shape=torch.Size([7, 3]), device=cpu, dtype=torch.float32, is_shared=False),\n",
      "                        cdof: Tensor(shape=torch.Size([73, 6]), device=cpu, dtype=torch.float32, is_shared=False),\n",
      "                        cdof_dot: Tensor(shape=torch.Size([73, 6]), device=cpu, dtype=torch.float32, is_shared=False),\n",
      "                        cinert: Tensor(shape=torch.Size([66, 10]), device=cpu, dtype=torch.float32, is_shared=False),\n",
      "                        contact: TensorDict(\n",
      "                            fields={\n",
      "                                dist: Tensor(shape=torch.Size([34]), device=cpu, dtype=torch.float32, is_shared=False),\n",
      "                                elasticity: Tensor(shape=torch.Size([34]), device=cpu, dtype=torch.float32, is_shared=False),\n",
      "                                frame: Tensor(shape=torch.Size([34, 3, 3]), device=cpu, dtype=torch.float32, is_shared=False),\n",
      "                                friction: Tensor(shape=torch.Size([34, 5]), device=cpu, dtype=torch.float32, is_shared=False),\n",
      "                                geom1: Tensor(shape=torch.Size([34]), device=cpu, dtype=torch.int32, is_shared=False),\n",
      "                                geom2: Tensor(shape=torch.Size([34]), device=cpu, dtype=torch.int32, is_shared=False),\n",
      "                                includemargin: Tensor(shape=torch.Size([34]), device=cpu, dtype=torch.float32, is_shared=False),\n",
      "                                link_idx: TensorDict(\n",
      "                                    fields={\n",
      "                                        item0: Tensor(shape=torch.Size([34]), device=cpu, dtype=torch.int32, is_shared=False),\n",
      "                                        item1: Tensor(shape=torch.Size([34]), device=cpu, dtype=torch.int32, is_shared=False)},\n",
      "                                    batch_size=torch.Size([]),\n",
      "                                    device=cpu,\n",
      "                                    is_shared=False),\n",
      "                                pos: Tensor(shape=torch.Size([34, 3]), device=cpu, dtype=torch.float32, is_shared=False),\n",
      "                                solimp: Tensor(shape=torch.Size([34, 5]), device=cpu, dtype=torch.float32, is_shared=False),\n",
      "                                solref: Tensor(shape=torch.Size([34, 2]), device=cpu, dtype=torch.float32, is_shared=False),\n",
      "                                solreffriction: Tensor(shape=torch.Size([34, 2]), device=cpu, dtype=torch.float32, is_shared=False)},\n",
      "                            batch_size=torch.Size([]),\n",
      "                            device=cpu,\n",
      "                            is_shared=False),\n",
      "                        crb: Tensor(shape=torch.Size([66, 10]), device=cpu, dtype=torch.float32, is_shared=False),\n",
      "                        ctrl: Tensor(shape=torch.Size([30]), device=cpu, dtype=torch.float32, is_shared=False),\n",
      "                        cvel: Tensor(shape=torch.Size([66, 6]), device=cpu, dtype=torch.float32, is_shared=False),\n",
      "                        efc_D: Tensor(shape=torch.Size([203]), device=cpu, dtype=torch.float32, is_shared=False),\n",
      "                        efc_J: Tensor(shape=torch.Size([203, 73]), device=cpu, dtype=torch.float32, is_shared=False),\n",
      "                        efc_aref: Tensor(shape=torch.Size([203]), device=cpu, dtype=torch.float32, is_shared=False),\n",
      "                        efc_force: Tensor(shape=torch.Size([203]), device=cpu, dtype=torch.float32, is_shared=False),\n",
      "                        efc_frictionloss: Tensor(shape=torch.Size([203]), device=cpu, dtype=torch.float32, is_shared=False),\n",
      "                        eq_active: Tensor(shape=torch.Size([0]), device=cpu, dtype=torch.int32, is_shared=False),\n",
      "                        geom_xmat: Tensor(shape=torch.Size([101, 3, 3]), device=cpu, dtype=torch.float32, is_shared=False),\n",
      "                        geom_xpos: Tensor(shape=torch.Size([101, 3]), device=cpu, dtype=torch.float32, is_shared=False),\n",
      "                        q: Tensor(shape=torch.Size([74]), device=cpu, dtype=torch.float32, is_shared=False),\n",
      "                        qLD: Tensor(shape=torch.Size([73, 73]), device=cpu, dtype=torch.float32, is_shared=False),\n",
      "                        qLDiagInv: Tensor(shape=torch.Size([0]), device=cpu, dtype=torch.float32, is_shared=False),\n",
      "                        qM: Tensor(shape=torch.Size([73, 73]), device=cpu, dtype=torch.float32, is_shared=False),\n",
      "                        qacc: Tensor(shape=torch.Size([73]), device=cpu, dtype=torch.float32, is_shared=False),\n",
      "                        qacc_smooth: Tensor(shape=torch.Size([73]), device=cpu, dtype=torch.float32, is_shared=False),\n",
      "                        qacc_warmstart: Tensor(shape=torch.Size([73]), device=cpu, dtype=torch.float32, is_shared=False),\n",
      "                        qd: Tensor(shape=torch.Size([73]), device=cpu, dtype=torch.float32, is_shared=False),\n",
      "                        qfrc_actuator: Tensor(shape=torch.Size([73]), device=cpu, dtype=torch.float32, is_shared=False),\n",
      "                        qfrc_applied: Tensor(shape=torch.Size([73]), device=cpu, dtype=torch.float32, is_shared=False),\n",
      "                        qfrc_bias: Tensor(shape=torch.Size([73]), device=cpu, dtype=torch.float32, is_shared=False),\n",
      "                        qfrc_constraint: Tensor(shape=torch.Size([73]), device=cpu, dtype=torch.float32, is_shared=False),\n",
      "                        qfrc_inverse: Tensor(shape=torch.Size([73]), device=cpu, dtype=torch.float32, is_shared=False),\n",
      "                        qfrc_passive: Tensor(shape=torch.Size([73]), device=cpu, dtype=torch.float32, is_shared=False),\n",
      "                        qfrc_smooth: Tensor(shape=torch.Size([73]), device=cpu, dtype=torch.float32, is_shared=False),\n",
      "                        qpos: Tensor(shape=torch.Size([74]), device=cpu, dtype=torch.float32, is_shared=False),\n",
      "                        qvel: Tensor(shape=torch.Size([73]), device=cpu, dtype=torch.float32, is_shared=False),\n",
      "                        site_xmat: Tensor(shape=torch.Size([21, 3, 3]), device=cpu, dtype=torch.float32, is_shared=False),\n",
      "                        site_xpos: Tensor(shape=torch.Size([21, 3]), device=cpu, dtype=torch.float32, is_shared=False),\n",
      "                        solver_niter: Tensor(shape=torch.Size([]), device=cpu, dtype=torch.int32, is_shared=False),\n",
      "                        subtree_com: Tensor(shape=torch.Size([66, 3]), device=cpu, dtype=torch.float32, is_shared=False),\n",
      "                        time: Tensor(shape=torch.Size([]), device=cpu, dtype=torch.float32, is_shared=False),\n",
      "                        x: TensorDict(\n",
      "                            fields={\n",
      "                                pos: Tensor(shape=torch.Size([65, 3]), device=cpu, dtype=torch.float32, is_shared=False),\n",
      "                                rot: Tensor(shape=torch.Size([65, 4]), device=cpu, dtype=torch.float32, is_shared=False)},\n",
      "                            batch_size=torch.Size([]),\n",
      "                            device=cpu,\n",
      "                            is_shared=False),\n",
      "                        xanchor: Tensor(shape=torch.Size([68, 3]), device=cpu, dtype=torch.float32, is_shared=False),\n",
      "                        xaxis: Tensor(shape=torch.Size([68, 3]), device=cpu, dtype=torch.float32, is_shared=False),\n",
      "                        xd: TensorDict(\n",
      "                            fields={\n",
      "                                ang: Tensor(shape=torch.Size([65, 3]), device=cpu, dtype=torch.float32, is_shared=False),\n",
      "                                vel: Tensor(shape=torch.Size([65, 3]), device=cpu, dtype=torch.float32, is_shared=False)},\n",
      "                            batch_size=torch.Size([]),\n",
      "                            device=cpu,\n",
      "                            is_shared=False),\n",
      "                        xfrc_applied: Tensor(shape=torch.Size([66, 6]), device=cpu, dtype=torch.float32, is_shared=False),\n",
      "                        ximat: Tensor(shape=torch.Size([66, 3, 3]), device=cpu, dtype=torch.float32, is_shared=False),\n",
      "                        xipos: Tensor(shape=torch.Size([66, 3]), device=cpu, dtype=torch.float32, is_shared=False),\n",
      "                        xmat: Tensor(shape=torch.Size([66, 3, 3]), device=cpu, dtype=torch.float32, is_shared=False),\n",
      "                        xpos: Tensor(shape=torch.Size([66, 3]), device=cpu, dtype=torch.float32, is_shared=False),\n",
      "                        xquat: Tensor(shape=torch.Size([66, 4]), device=cpu, dtype=torch.float32, is_shared=False)},\n",
      "                    batch_size=torch.Size([]),\n",
      "                    device=cpu,\n",
      "                    is_shared=False),\n",
      "                reward: Tensor(shape=torch.Size([1]), device=cpu, dtype=torch.float32, is_shared=False)},\n",
      "            batch_size=torch.Size([]),\n",
      "            device=cpu,\n",
      "            is_shared=False),\n",
      "        terminated: Tensor(shape=torch.Size([1]), device=cpu, dtype=torch.bool, is_shared=False)},\n",
      "    batch_size=torch.Size([]),\n",
      "    device=cpu,\n",
      "    is_shared=False)\n"
     ]
    }
   ],
   "source": [
    "env.set_seed(0)\n",
    "td = env.reset()\n",
    "print(td)"
   ]
  },
  {
   "cell_type": "code",
   "execution_count": 5,
   "metadata": {},
   "outputs": [
    {
     "name": "stderr",
     "output_type": "stream",
     "text": [
      "2024-03-29 12:46:24.204800: E external/xla/xla/service/slow_operation_alarm.cc:65] \n",
      "********************************\n",
      "[Compiling module jit_step] Very slow compile? If you want to file a bug, run with envvar XLA_FLAGS=--xla_dump_to=/tmp/foo and attach the results.\n",
      "********************************\n",
      "2024-03-29 12:46:24.748833: E external/xla/xla/service/slow_operation_alarm.cc:133] The operation took 2m0.544112638s\n",
      "\n",
      "********************************\n",
      "[Compiling module jit_step] Very slow compile? If you want to file a bug, run with envvar XLA_FLAGS=--xla_dump_to=/tmp/foo and attach the results.\n",
      "********************************\n"
     ]
    },
    {
     "name": "stdout",
     "output_type": "stream",
     "text": [
      "TensorDict(\n",
      "    fields={\n",
      "        action: Tensor(shape=torch.Size([30]), device=cpu, dtype=torch.float32, is_shared=False),\n",
      "        done: Tensor(shape=torch.Size([1]), device=cpu, dtype=torch.bool, is_shared=False),\n",
      "        next: TensorDict(\n",
      "            fields={\n",
      "                done: Tensor(shape=torch.Size([1]), device=cpu, dtype=torch.bool, is_shared=False),\n",
      "                observation: Tensor(shape=torch.Size([1260]), device=cpu, dtype=torch.float32, is_shared=False),\n",
      "                reward: Tensor(shape=torch.Size([1]), device=cpu, dtype=torch.float32, is_shared=False),\n",
      "                state: TensorDict(\n",
      "                    fields={\n",
      "                        done: Tensor(shape=torch.Size([1]), device=cpu, dtype=torch.float32, is_shared=False),\n",
      "                        metrics: TensorDict(\n",
      "                            fields={\n",
      "                                distance_from_origin: Tensor(shape=torch.Size([]), device=cpu, dtype=torch.float32, is_shared=False),\n",
      "                                forward_reward: Tensor(shape=torch.Size([]), device=cpu, dtype=torch.float32, is_shared=False),\n",
      "                                reward_alive: Tensor(shape=torch.Size([]), device=cpu, dtype=torch.float32, is_shared=False),\n",
      "                                reward_linvel: Tensor(shape=torch.Size([]), device=cpu, dtype=torch.float32, is_shared=False),\n",
      "                                reward_quadctrl: Tensor(shape=torch.Size([]), device=cpu, dtype=torch.float32, is_shared=False),\n",
      "                                x_position: Tensor(shape=torch.Size([]), device=cpu, dtype=torch.float32, is_shared=False),\n",
      "                                x_velocity: Tensor(shape=torch.Size([]), device=cpu, dtype=torch.float32, is_shared=False),\n",
      "                                y_position: Tensor(shape=torch.Size([]), device=cpu, dtype=torch.float32, is_shared=False),\n",
      "                                y_velocity: Tensor(shape=torch.Size([]), device=cpu, dtype=torch.float32, is_shared=False)},\n",
      "                            batch_size=torch.Size([]),\n",
      "                            device=cpu,\n",
      "                            is_shared=False),\n",
      "                        obs: Tensor(shape=torch.Size([1260]), device=cpu, dtype=torch.float32, is_shared=False),\n",
      "                        pipeline_state: TensorDict(\n",
      "                            fields={\n",
      "                                act: Tensor(shape=torch.Size([30]), device=cpu, dtype=torch.float32, is_shared=False),\n",
      "                                act_dot: Tensor(shape=torch.Size([30]), device=cpu, dtype=torch.float32, is_shared=False),\n",
      "                                actuator_length: Tensor(shape=torch.Size([30]), device=cpu, dtype=torch.float32, is_shared=False),\n",
      "                                actuator_moment: Tensor(shape=torch.Size([30, 73]), device=cpu, dtype=torch.float32, is_shared=False),\n",
      "                                actuator_velocity: Tensor(shape=torch.Size([30]), device=cpu, dtype=torch.float32, is_shared=False),\n",
      "                                cam_xmat: Tensor(shape=torch.Size([7, 3, 3]), device=cpu, dtype=torch.float32, is_shared=False),\n",
      "                                cam_xpos: Tensor(shape=torch.Size([7, 3]), device=cpu, dtype=torch.float32, is_shared=False),\n",
      "                                cdof: Tensor(shape=torch.Size([73, 6]), device=cpu, dtype=torch.float32, is_shared=False),\n",
      "                                cdof_dot: Tensor(shape=torch.Size([73, 6]), device=cpu, dtype=torch.float32, is_shared=False),\n",
      "                                cinert: Tensor(shape=torch.Size([66, 10]), device=cpu, dtype=torch.float32, is_shared=False),\n",
      "                                contact: TensorDict(\n",
      "                                    fields={\n",
      "                                        dist: Tensor(shape=torch.Size([34]), device=cpu, dtype=torch.float32, is_shared=False),\n",
      "                                        elasticity: Tensor(shape=torch.Size([34]), device=cpu, dtype=torch.float32, is_shared=False),\n",
      "                                        frame: Tensor(shape=torch.Size([34, 3, 3]), device=cpu, dtype=torch.float32, is_shared=False),\n",
      "                                        friction: Tensor(shape=torch.Size([34, 5]), device=cpu, dtype=torch.float32, is_shared=False),\n",
      "                                        geom1: Tensor(shape=torch.Size([34]), device=cpu, dtype=torch.int32, is_shared=False),\n",
      "                                        geom2: Tensor(shape=torch.Size([34]), device=cpu, dtype=torch.int32, is_shared=False),\n",
      "                                        includemargin: Tensor(shape=torch.Size([34]), device=cpu, dtype=torch.float32, is_shared=False),\n",
      "                                        link_idx: TensorDict(\n",
      "                                            fields={\n",
      "                                                item0: Tensor(shape=torch.Size([34]), device=cpu, dtype=torch.int32, is_shared=False),\n",
      "                                                item1: Tensor(shape=torch.Size([34]), device=cpu, dtype=torch.int32, is_shared=False)},\n",
      "                                            batch_size=torch.Size([]),\n",
      "                                            device=cpu,\n",
      "                                            is_shared=False),\n",
      "                                        pos: Tensor(shape=torch.Size([34, 3]), device=cpu, dtype=torch.float32, is_shared=False),\n",
      "                                        solimp: Tensor(shape=torch.Size([34, 5]), device=cpu, dtype=torch.float32, is_shared=False),\n",
      "                                        solref: Tensor(shape=torch.Size([34, 2]), device=cpu, dtype=torch.float32, is_shared=False),\n",
      "                                        solreffriction: Tensor(shape=torch.Size([34, 2]), device=cpu, dtype=torch.float32, is_shared=False)},\n",
      "                                    batch_size=torch.Size([]),\n",
      "                                    device=cpu,\n",
      "                                    is_shared=False),\n",
      "                                crb: Tensor(shape=torch.Size([66, 10]), device=cpu, dtype=torch.float32, is_shared=False),\n",
      "                                ctrl: Tensor(shape=torch.Size([30]), device=cpu, dtype=torch.float32, is_shared=False),\n",
      "                                cvel: Tensor(shape=torch.Size([66, 6]), device=cpu, dtype=torch.float32, is_shared=False),\n",
      "                                efc_D: Tensor(shape=torch.Size([203]), device=cpu, dtype=torch.float32, is_shared=False),\n",
      "                                efc_J: Tensor(shape=torch.Size([203, 73]), device=cpu, dtype=torch.float32, is_shared=False),\n",
      "                                efc_aref: Tensor(shape=torch.Size([203]), device=cpu, dtype=torch.float32, is_shared=False),\n",
      "                                efc_force: Tensor(shape=torch.Size([203]), device=cpu, dtype=torch.float32, is_shared=False),\n",
      "                                efc_frictionloss: Tensor(shape=torch.Size([203]), device=cpu, dtype=torch.float32, is_shared=False),\n",
      "                                eq_active: Tensor(shape=torch.Size([0]), device=cpu, dtype=torch.int32, is_shared=False),\n",
      "                                geom_xmat: Tensor(shape=torch.Size([101, 3, 3]), device=cpu, dtype=torch.float32, is_shared=False),\n",
      "                                geom_xpos: Tensor(shape=torch.Size([101, 3]), device=cpu, dtype=torch.float32, is_shared=False),\n",
      "                                q: Tensor(shape=torch.Size([74]), device=cpu, dtype=torch.float32, is_shared=False),\n",
      "                                qLD: Tensor(shape=torch.Size([73, 73]), device=cpu, dtype=torch.float32, is_shared=False),\n",
      "                                qLDiagInv: Tensor(shape=torch.Size([0]), device=cpu, dtype=torch.float32, is_shared=False),\n",
      "                                qM: Tensor(shape=torch.Size([73, 73]), device=cpu, dtype=torch.float32, is_shared=False),\n",
      "                                qacc: Tensor(shape=torch.Size([73]), device=cpu, dtype=torch.float32, is_shared=False),\n",
      "                                qacc_smooth: Tensor(shape=torch.Size([73]), device=cpu, dtype=torch.float32, is_shared=False),\n",
      "                                qacc_warmstart: Tensor(shape=torch.Size([73]), device=cpu, dtype=torch.float32, is_shared=False),\n",
      "                                qd: Tensor(shape=torch.Size([73]), device=cpu, dtype=torch.float32, is_shared=False),\n",
      "                                qfrc_actuator: Tensor(shape=torch.Size([73]), device=cpu, dtype=torch.float32, is_shared=False),\n",
      "                                qfrc_applied: Tensor(shape=torch.Size([73]), device=cpu, dtype=torch.float32, is_shared=False),\n",
      "                                qfrc_bias: Tensor(shape=torch.Size([73]), device=cpu, dtype=torch.float32, is_shared=False),\n",
      "                                qfrc_constraint: Tensor(shape=torch.Size([73]), device=cpu, dtype=torch.float32, is_shared=False),\n",
      "                                qfrc_inverse: Tensor(shape=torch.Size([73]), device=cpu, dtype=torch.float32, is_shared=False),\n",
      "                                qfrc_passive: Tensor(shape=torch.Size([73]), device=cpu, dtype=torch.float32, is_shared=False),\n",
      "                                qfrc_smooth: Tensor(shape=torch.Size([73]), device=cpu, dtype=torch.float32, is_shared=False),\n",
      "                                qpos: Tensor(shape=torch.Size([74]), device=cpu, dtype=torch.float32, is_shared=False),\n",
      "                                qvel: Tensor(shape=torch.Size([73]), device=cpu, dtype=torch.float32, is_shared=False),\n",
      "                                site_xmat: Tensor(shape=torch.Size([21, 3, 3]), device=cpu, dtype=torch.float32, is_shared=False),\n",
      "                                site_xpos: Tensor(shape=torch.Size([21, 3]), device=cpu, dtype=torch.float32, is_shared=False),\n",
      "                                solver_niter: Tensor(shape=torch.Size([]), device=cpu, dtype=torch.int32, is_shared=False),\n",
      "                                subtree_com: Tensor(shape=torch.Size([66, 3]), device=cpu, dtype=torch.float32, is_shared=False),\n",
      "                                time: Tensor(shape=torch.Size([]), device=cpu, dtype=torch.float32, is_shared=False),\n",
      "                                x: TensorDict(\n",
      "                                    fields={\n",
      "                                        pos: Tensor(shape=torch.Size([65, 3]), device=cpu, dtype=torch.float32, is_shared=False),\n",
      "                                        rot: Tensor(shape=torch.Size([65, 4]), device=cpu, dtype=torch.float32, is_shared=False)},\n",
      "                                    batch_size=torch.Size([]),\n",
      "                                    device=cpu,\n",
      "                                    is_shared=False),\n",
      "                                xanchor: Tensor(shape=torch.Size([68, 3]), device=cpu, dtype=torch.float32, is_shared=False),\n",
      "                                xaxis: Tensor(shape=torch.Size([68, 3]), device=cpu, dtype=torch.float32, is_shared=False),\n",
      "                                xd: TensorDict(\n",
      "                                    fields={\n",
      "                                        ang: Tensor(shape=torch.Size([65, 3]), device=cpu, dtype=torch.float32, is_shared=False),\n",
      "                                        vel: Tensor(shape=torch.Size([65, 3]), device=cpu, dtype=torch.float32, is_shared=False)},\n",
      "                                    batch_size=torch.Size([]),\n",
      "                                    device=cpu,\n",
      "                                    is_shared=False),\n",
      "                                xfrc_applied: Tensor(shape=torch.Size([66, 6]), device=cpu, dtype=torch.float32, is_shared=False),\n",
      "                                ximat: Tensor(shape=torch.Size([66, 3, 3]), device=cpu, dtype=torch.float32, is_shared=False),\n",
      "                                xipos: Tensor(shape=torch.Size([66, 3]), device=cpu, dtype=torch.float32, is_shared=False),\n",
      "                                xmat: Tensor(shape=torch.Size([66, 3, 3]), device=cpu, dtype=torch.float32, is_shared=False),\n",
      "                                xpos: Tensor(shape=torch.Size([66, 3]), device=cpu, dtype=torch.float32, is_shared=False),\n",
      "                                xquat: Tensor(shape=torch.Size([66, 4]), device=cpu, dtype=torch.float32, is_shared=False)},\n",
      "                            batch_size=torch.Size([]),\n",
      "                            device=cpu,\n",
      "                            is_shared=False),\n",
      "                        reward: Tensor(shape=torch.Size([1]), device=cpu, dtype=torch.float32, is_shared=False)},\n",
      "                    batch_size=torch.Size([]),\n",
      "                    device=cpu,\n",
      "                    is_shared=False),\n",
      "                terminated: Tensor(shape=torch.Size([1]), device=cpu, dtype=torch.bool, is_shared=False)},\n",
      "            batch_size=torch.Size([]),\n",
      "            device=cpu,\n",
      "            is_shared=False),\n",
      "        observation: Tensor(shape=torch.Size([1260]), device=cpu, dtype=torch.float32, is_shared=False),\n",
      "        state: TensorDict(\n",
      "            fields={\n",
      "                done: Tensor(shape=torch.Size([1]), device=cpu, dtype=torch.float32, is_shared=False),\n",
      "                metrics: TensorDict(\n",
      "                    fields={\n",
      "                        distance_from_origin: Tensor(shape=torch.Size([]), device=cpu, dtype=torch.float32, is_shared=False),\n",
      "                        forward_reward: Tensor(shape=torch.Size([]), device=cpu, dtype=torch.float32, is_shared=False),\n",
      "                        reward_alive: Tensor(shape=torch.Size([]), device=cpu, dtype=torch.float32, is_shared=False),\n",
      "                        reward_linvel: Tensor(shape=torch.Size([]), device=cpu, dtype=torch.float32, is_shared=False),\n",
      "                        reward_quadctrl: Tensor(shape=torch.Size([]), device=cpu, dtype=torch.float32, is_shared=False),\n",
      "                        x_position: Tensor(shape=torch.Size([]), device=cpu, dtype=torch.float32, is_shared=False),\n",
      "                        x_velocity: Tensor(shape=torch.Size([]), device=cpu, dtype=torch.float32, is_shared=False),\n",
      "                        y_position: Tensor(shape=torch.Size([]), device=cpu, dtype=torch.float32, is_shared=False),\n",
      "                        y_velocity: Tensor(shape=torch.Size([]), device=cpu, dtype=torch.float32, is_shared=False)},\n",
      "                    batch_size=torch.Size([]),\n",
      "                    device=cpu,\n",
      "                    is_shared=False),\n",
      "                obs: Tensor(shape=torch.Size([1260]), device=cpu, dtype=torch.float32, is_shared=False),\n",
      "                pipeline_state: TensorDict(\n",
      "                    fields={\n",
      "                        act: Tensor(shape=torch.Size([30]), device=cpu, dtype=torch.float32, is_shared=False),\n",
      "                        act_dot: Tensor(shape=torch.Size([30]), device=cpu, dtype=torch.float32, is_shared=False),\n",
      "                        actuator_length: Tensor(shape=torch.Size([30]), device=cpu, dtype=torch.float32, is_shared=False),\n",
      "                        actuator_moment: Tensor(shape=torch.Size([30, 73]), device=cpu, dtype=torch.float32, is_shared=False),\n",
      "                        actuator_velocity: Tensor(shape=torch.Size([30]), device=cpu, dtype=torch.float32, is_shared=False),\n",
      "                        cam_xmat: Tensor(shape=torch.Size([7, 3, 3]), device=cpu, dtype=torch.float32, is_shared=False),\n",
      "                        cam_xpos: Tensor(shape=torch.Size([7, 3]), device=cpu, dtype=torch.float32, is_shared=False),\n",
      "                        cdof: Tensor(shape=torch.Size([73, 6]), device=cpu, dtype=torch.float32, is_shared=False),\n",
      "                        cdof_dot: Tensor(shape=torch.Size([73, 6]), device=cpu, dtype=torch.float32, is_shared=False),\n",
      "                        cinert: Tensor(shape=torch.Size([66, 10]), device=cpu, dtype=torch.float32, is_shared=False),\n",
      "                        contact: TensorDict(\n",
      "                            fields={\n",
      "                                dist: Tensor(shape=torch.Size([34]), device=cpu, dtype=torch.float32, is_shared=False),\n",
      "                                elasticity: Tensor(shape=torch.Size([34]), device=cpu, dtype=torch.float32, is_shared=False),\n",
      "                                frame: Tensor(shape=torch.Size([34, 3, 3]), device=cpu, dtype=torch.float32, is_shared=False),\n",
      "                                friction: Tensor(shape=torch.Size([34, 5]), device=cpu, dtype=torch.float32, is_shared=False),\n",
      "                                geom1: Tensor(shape=torch.Size([34]), device=cpu, dtype=torch.int32, is_shared=False),\n",
      "                                geom2: Tensor(shape=torch.Size([34]), device=cpu, dtype=torch.int32, is_shared=False),\n",
      "                                includemargin: Tensor(shape=torch.Size([34]), device=cpu, dtype=torch.float32, is_shared=False),\n",
      "                                link_idx: TensorDict(\n",
      "                                    fields={\n",
      "                                        item0: Tensor(shape=torch.Size([34]), device=cpu, dtype=torch.int32, is_shared=False),\n",
      "                                        item1: Tensor(shape=torch.Size([34]), device=cpu, dtype=torch.int32, is_shared=False)},\n",
      "                                    batch_size=torch.Size([]),\n",
      "                                    device=cpu,\n",
      "                                    is_shared=False),\n",
      "                                pos: Tensor(shape=torch.Size([34, 3]), device=cpu, dtype=torch.float32, is_shared=False),\n",
      "                                solimp: Tensor(shape=torch.Size([34, 5]), device=cpu, dtype=torch.float32, is_shared=False),\n",
      "                                solref: Tensor(shape=torch.Size([34, 2]), device=cpu, dtype=torch.float32, is_shared=False),\n",
      "                                solreffriction: Tensor(shape=torch.Size([34, 2]), device=cpu, dtype=torch.float32, is_shared=False)},\n",
      "                            batch_size=torch.Size([]),\n",
      "                            device=cpu,\n",
      "                            is_shared=False),\n",
      "                        crb: Tensor(shape=torch.Size([66, 10]), device=cpu, dtype=torch.float32, is_shared=False),\n",
      "                        ctrl: Tensor(shape=torch.Size([30]), device=cpu, dtype=torch.float32, is_shared=False),\n",
      "                        cvel: Tensor(shape=torch.Size([66, 6]), device=cpu, dtype=torch.float32, is_shared=False),\n",
      "                        efc_D: Tensor(shape=torch.Size([203]), device=cpu, dtype=torch.float32, is_shared=False),\n",
      "                        efc_J: Tensor(shape=torch.Size([203, 73]), device=cpu, dtype=torch.float32, is_shared=False),\n",
      "                        efc_aref: Tensor(shape=torch.Size([203]), device=cpu, dtype=torch.float32, is_shared=False),\n",
      "                        efc_force: Tensor(shape=torch.Size([203]), device=cpu, dtype=torch.float32, is_shared=False),\n",
      "                        efc_frictionloss: Tensor(shape=torch.Size([203]), device=cpu, dtype=torch.float32, is_shared=False),\n",
      "                        eq_active: Tensor(shape=torch.Size([0]), device=cpu, dtype=torch.int32, is_shared=False),\n",
      "                        geom_xmat: Tensor(shape=torch.Size([101, 3, 3]), device=cpu, dtype=torch.float32, is_shared=False),\n",
      "                        geom_xpos: Tensor(shape=torch.Size([101, 3]), device=cpu, dtype=torch.float32, is_shared=False),\n",
      "                        q: Tensor(shape=torch.Size([74]), device=cpu, dtype=torch.float32, is_shared=False),\n",
      "                        qLD: Tensor(shape=torch.Size([73, 73]), device=cpu, dtype=torch.float32, is_shared=False),\n",
      "                        qLDiagInv: Tensor(shape=torch.Size([0]), device=cpu, dtype=torch.float32, is_shared=False),\n",
      "                        qM: Tensor(shape=torch.Size([73, 73]), device=cpu, dtype=torch.float32, is_shared=False),\n",
      "                        qacc: Tensor(shape=torch.Size([73]), device=cpu, dtype=torch.float32, is_shared=False),\n",
      "                        qacc_smooth: Tensor(shape=torch.Size([73]), device=cpu, dtype=torch.float32, is_shared=False),\n",
      "                        qacc_warmstart: Tensor(shape=torch.Size([73]), device=cpu, dtype=torch.float32, is_shared=False),\n",
      "                        qd: Tensor(shape=torch.Size([73]), device=cpu, dtype=torch.float32, is_shared=False),\n",
      "                        qfrc_actuator: Tensor(shape=torch.Size([73]), device=cpu, dtype=torch.float32, is_shared=False),\n",
      "                        qfrc_applied: Tensor(shape=torch.Size([73]), device=cpu, dtype=torch.float32, is_shared=False),\n",
      "                        qfrc_bias: Tensor(shape=torch.Size([73]), device=cpu, dtype=torch.float32, is_shared=False),\n",
      "                        qfrc_constraint: Tensor(shape=torch.Size([73]), device=cpu, dtype=torch.float32, is_shared=False),\n",
      "                        qfrc_inverse: Tensor(shape=torch.Size([73]), device=cpu, dtype=torch.float32, is_shared=False),\n",
      "                        qfrc_passive: Tensor(shape=torch.Size([73]), device=cpu, dtype=torch.float32, is_shared=False),\n",
      "                        qfrc_smooth: Tensor(shape=torch.Size([73]), device=cpu, dtype=torch.float32, is_shared=False),\n",
      "                        qpos: Tensor(shape=torch.Size([74]), device=cpu, dtype=torch.float32, is_shared=False),\n",
      "                        qvel: Tensor(shape=torch.Size([73]), device=cpu, dtype=torch.float32, is_shared=False),\n",
      "                        site_xmat: Tensor(shape=torch.Size([21, 3, 3]), device=cpu, dtype=torch.float32, is_shared=False),\n",
      "                        site_xpos: Tensor(shape=torch.Size([21, 3]), device=cpu, dtype=torch.float32, is_shared=False),\n",
      "                        solver_niter: Tensor(shape=torch.Size([]), device=cpu, dtype=torch.int32, is_shared=False),\n",
      "                        subtree_com: Tensor(shape=torch.Size([66, 3]), device=cpu, dtype=torch.float32, is_shared=False),\n",
      "                        time: Tensor(shape=torch.Size([]), device=cpu, dtype=torch.float32, is_shared=False),\n",
      "                        x: TensorDict(\n",
      "                            fields={\n",
      "                                pos: Tensor(shape=torch.Size([65, 3]), device=cpu, dtype=torch.float32, is_shared=False),\n",
      "                                rot: Tensor(shape=torch.Size([65, 4]), device=cpu, dtype=torch.float32, is_shared=False)},\n",
      "                            batch_size=torch.Size([]),\n",
      "                            device=cpu,\n",
      "                            is_shared=False),\n",
      "                        xanchor: Tensor(shape=torch.Size([68, 3]), device=cpu, dtype=torch.float32, is_shared=False),\n",
      "                        xaxis: Tensor(shape=torch.Size([68, 3]), device=cpu, dtype=torch.float32, is_shared=False),\n",
      "                        xd: TensorDict(\n",
      "                            fields={\n",
      "                                ang: Tensor(shape=torch.Size([65, 3]), device=cpu, dtype=torch.float32, is_shared=False),\n",
      "                                vel: Tensor(shape=torch.Size([65, 3]), device=cpu, dtype=torch.float32, is_shared=False)},\n",
      "                            batch_size=torch.Size([]),\n",
      "                            device=cpu,\n",
      "                            is_shared=False),\n",
      "                        xfrc_applied: Tensor(shape=torch.Size([66, 6]), device=cpu, dtype=torch.float32, is_shared=False),\n",
      "                        ximat: Tensor(shape=torch.Size([66, 3, 3]), device=cpu, dtype=torch.float32, is_shared=False),\n",
      "                        xipos: Tensor(shape=torch.Size([66, 3]), device=cpu, dtype=torch.float32, is_shared=False),\n",
      "                        xmat: Tensor(shape=torch.Size([66, 3, 3]), device=cpu, dtype=torch.float32, is_shared=False),\n",
      "                        xpos: Tensor(shape=torch.Size([66, 3]), device=cpu, dtype=torch.float32, is_shared=False),\n",
      "                        xquat: Tensor(shape=torch.Size([66, 4]), device=cpu, dtype=torch.float32, is_shared=False)},\n",
      "                    batch_size=torch.Size([]),\n",
      "                    device=cpu,\n",
      "                    is_shared=False),\n",
      "                reward: Tensor(shape=torch.Size([1]), device=cpu, dtype=torch.float32, is_shared=False)},\n",
      "            batch_size=torch.Size([]),\n",
      "            device=cpu,\n",
      "            is_shared=False),\n",
      "        terminated: Tensor(shape=torch.Size([1]), device=cpu, dtype=torch.bool, is_shared=False)},\n",
      "    batch_size=torch.Size([]),\n",
      "    device=cpu,\n",
      "    is_shared=False)\n"
     ]
    }
   ],
   "source": [
    "td[\"action\"] = env.action_spec.rand()\n",
    "td = env.step(td)\n",
    "print(td)"
   ]
  },
  {
   "cell_type": "code",
   "execution_count": 6,
   "metadata": {},
   "outputs": [],
   "source": [
    "td = env.rand_step(td)\n"
   ]
  },
  {
   "cell_type": "code",
   "execution_count": 10,
   "metadata": {},
   "outputs": [
    {
     "name": "stdout",
     "output_type": "stream",
     "text": [
      "56 ms ± 535 µs per loop (mean ± std. dev. of 7 runs, 10 loops each)\n"
     ]
    }
   ],
   "source": [
    "%timeit env.rand_step(td)"
   ]
  },
  {
   "cell_type": "markdown",
   "metadata": {},
   "source": [
    "# testing code"
   ]
  },
  {
   "cell_type": "code",
   "execution_count": 4,
   "metadata": {},
   "outputs": [],
   "source": [
    "import jax\n",
    "env = Rodent()"
   ]
  },
  {
   "cell_type": "code",
   "execution_count": 5,
   "metadata": {},
   "outputs": [],
   "source": [
    "key = jax.random.PRNGKey(0)\n",
    "state = env.reset(key)"
   ]
  },
  {
   "cell_type": "code",
   "execution_count": 6,
   "metadata": {},
   "outputs": [
    {
     "data": {
      "text/plain": [
       "dict_keys(['pipeline_state', 'obs', 'reward', 'done', 'metrics', 'info'])"
      ]
     },
     "execution_count": 6,
     "metadata": {},
     "output_type": "execute_result"
    }
   ],
   "source": [
    "state.__dict__.keys()"
   ]
  },
  {
   "cell_type": "code",
   "execution_count": 7,
   "metadata": {},
   "outputs": [
    {
     "name": "stdout",
     "output_type": "stream",
     "text": [
      "<class 'brax.mjx.base.State'>\n",
      "<class 'jaxlib.xla_extension.ArrayImpl'>\n",
      "<class 'jaxlib.xla_extension.ArrayImpl'>\n",
      "<class 'jaxlib.xla_extension.ArrayImpl'>\n",
      "<class 'dict'>\n",
      "<class 'dict'>\n"
     ]
    }
   ],
   "source": [
    "for k in state.__dict__.keys():\n",
    "    print(type(getattr(state, k)))\n",
    "    "
   ]
  },
  {
   "cell_type": "code",
   "execution_count": 8,
   "metadata": {},
   "outputs": [
    {
     "name": "stdout",
     "output_type": "stream",
     "text": [
      "<class 'brax.base.Contact'>\n"
     ]
    }
   ],
   "source": [
    "data = state.pipeline_state\n",
    "print(type(data.contact))"
   ]
  },
  {
   "cell_type": "code",
   "execution_count": 9,
   "metadata": {},
   "outputs": [],
   "source": [
    "contact = data.contact"
   ]
  },
  {
   "cell_type": "code",
   "execution_count": 10,
   "metadata": {},
   "outputs": [
    {
     "name": "stdout",
     "output_type": "stream",
     "text": [
      "<class 'jaxlib.xla_extension.ArrayImpl'>\n",
      "<class 'jaxlib.xla_extension.ArrayImpl'>\n",
      "<class 'jaxlib.xla_extension.ArrayImpl'>\n",
      "<class 'jaxlib.xla_extension.ArrayImpl'>\n",
      "<class 'jaxlib.xla_extension.ArrayImpl'>\n",
      "<class 'jaxlib.xla_extension.ArrayImpl'>\n",
      "<class 'jaxlib.xla_extension.ArrayImpl'>\n",
      "<class 'jaxlib.xla_extension.ArrayImpl'>\n",
      "<class 'jaxlib.xla_extension.ArrayImpl'>\n",
      "<class 'jaxlib.xla_extension.ArrayImpl'>\n",
      "<class 'tuple'>\n",
      "<class 'jaxlib.xla_extension.ArrayImpl'>\n"
     ]
    }
   ],
   "source": [
    "for k in contact.__dict__.keys():\n",
    "    print(type(getattr(contact, k)))"
   ]
  },
  {
   "cell_type": "code",
   "execution_count": 11,
   "metadata": {},
   "outputs": [
    {
     "data": {
      "text/plain": [
       "(Array([-1, -1, -1, -1, -1, -1, -1, -1, -1, -1, -1, -1, -1, -1, -1, -1, -1,\n",
       "        -1, -1, -1, -1, -1, -1, -1, -1, -1, -1, -1, -1, -1, -1, -1, -1, -1],      dtype=int32),\n",
       " Array([10, 10, 11, 11, 11, 11, 11, 11, 14, 14, 15, 15, 15, 15, 15, 15, 24,\n",
       "        24, 35, 35, 59, 59, 59, 59, 59, 59, 64, 64, 64, 64, 64, 64, 58, 63],      dtype=int32))"
      ]
     },
     "execution_count": 11,
     "metadata": {},
     "output_type": "execute_result"
    }
   ],
   "source": [
    "contact.link_idx"
   ]
  },
  {
   "cell_type": "code",
   "execution_count": null,
   "metadata": {},
   "outputs": [],
   "source": []
  }
 ],
 "metadata": {
  "kernelspec": {
   "display_name": "rl",
   "language": "python",
   "name": "python3"
  },
  "language_info": {
   "codemirror_mode": {
    "name": "ipython",
    "version": 3
   },
   "file_extension": ".py",
   "mimetype": "text/x-python",
   "name": "python",
   "nbconvert_exporter": "python",
   "pygments_lexer": "ipython3",
   "version": "3.11.8"
  }
 },
 "nbformat": 4,
 "nbformat_minor": 2
}
