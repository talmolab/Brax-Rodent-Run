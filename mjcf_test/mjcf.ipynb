{
 "cells": [
  {
   "cell_type": "code",
   "execution_count": 1,
   "metadata": {},
   "outputs": [],
   "source": [
    "import rodent\n",
    "from brax.io import mjcf as mjcf_brax\n",
    "import mujoco"
   ]
  },
  {
   "cell_type": "markdown",
   "metadata": {},
   "source": [
    "## Adapt the MJCF in brax and in dm_control\n",
    "\n",
    "> TODO: We can adapt the `rodent.py`'s mjcf system to brax, to allow it to interact with the brax system.\n",
    "\n",
    "- The MJCF in brax is pretty bare-bone, and only support loading the xml output form the mjcf package\n",
    "- if we want full flexibility of quick access to joints and contact, we still need to import mjcf from dm_control, which introduce a whole new sets of dependencies.\n",
    "    - better logics for contact termination, terminate when the system is unhealthy\n",
    "    - simplified observation space other than the huge array of joint angles and positions\n",
    "\n",
    "**How-to:**\n",
    "- Insert the `dm_control.rodent()` (loaded by mjcf) to the brax training system. \n",
    "    - _Challenges_: we need to bind the physics to `Mjx_model` in order to pass the simulation data to dm_control."
   ]
  },
  {
   "cell_type": "code",
   "execution_count": 2,
   "metadata": {},
   "outputs": [
    {
     "name": "stderr",
     "output_type": "stream",
     "text": [
      "2024-03-12 10:42:06.416770: W external/xla/xla/service/gpu/nvptx_compiler.cc:742] The NVIDIA driver's CUDA version is 12.2 which is older than the ptxas CUDA version (12.4.99). Because the driver is older than the ptxas version, XLA is disabling parallel compilation, which may slow down compilation. You should update your NVIDIA driver or use the NVIDIA-provided CUDA forward compatibility packages.\n"
     ]
    }
   ],
   "source": [
    "# This is how brax uses MJCF\n",
    "mj_model = mujoco.MjModel.from_xml_path(rodent._XML_PATH)\n",
    "mj_model.opt.solver = mujoco.mjtSolver.mjSOL_CG\n",
    "mj_model.opt.iterations = 6\n",
    "mj_model.opt.ls_iterations = 6\n",
    "sys = mjcf_brax.load_model(mj_model)"
   ]
  },
  {
   "cell_type": "code",
   "execution_count": 18,
   "metadata": {},
   "outputs": [
    {
     "name": "stdout",
     "output_type": "stream",
     "text": [
      "(MJCF Element: <geom name=\"foot_L_collision\" class=\"collision_primitive_paw\" size=\"0.003210712207833968 0.01238417565878816\" density=\"2041.1597822799999\" pos=\"0.0082744640327606835 0.0022566720089347309 -0.0022566720089347309\" euler=\"1.570796326794897 -1.2217304763960311 0\"/>, MJCF Element: <geom name=\"toe_L0_collision\" class=\"collision_primitive_paw\" size=\"0.002383208424149982 0.0072532430300216834\" pos=\"0.0084966561208825436 -0.0008496656120882542 0\" euler=\"1.570796326794897 -1.2217304763960311 0\"/>, MJCF Element: <geom name=\"toe_L1_collision\" class=\"collision_primitive_paw\" size=\"0.002383208424149982 0.0077713318178803739\" pos=\"0.0080718233148384163 0.0025489968362647632 0\" euler=\"1.570796326794897 -1.2217304763960311 0\"/>, MJCF Element: <geom name=\"toe_L2_collision\" class=\"collision_primitive_paw\" size=\"0.002383208424149982 0.0072532430300216834\" pos=\"0.0067973248967060336 0.0055228264785736536 0\" euler=\"1.570796326794897 -1.2217304763960311 0\"/>, MJCF Element: <geom name=\"foot_R_collision\" class=\"collision_primitive_paw\" size=\"0.003210712207833968 0.01238417565878816\" density=\"2041.1597822799999\" pos=\"0.0082744640327606835 -0.0022566720089347309 -0.0022566720089347309\" euler=\"1.570796326794897 1.2217304763960311 0\"/>)\n"
     ]
    }
   ],
   "source": [
    "dm_rodent = rodent.Rodent()\n",
    "# this will directly get out the contacting geoms\n",
    "print(dm_rodent.ground_contact_geoms[:5])\n",
    "# However, we need physics object to pass in dm_control to see how we\n",
    "# can have better understanding of the simulation\n",
    "# might be hard to integrate with brax/mjx"
   ]
  },
  {
   "cell_type": "code",
   "execution_count": 19,
   "metadata": {},
   "outputs": [
    {
     "ename": "AttributeError",
     "evalue": "'str' object has no attribute 'bind'",
     "output_type": "error",
     "traceback": [
      "\u001b[0;31m---------------------------------------------------------------------------\u001b[0m",
      "\u001b[0;31mAttributeError\u001b[0m                            Traceback (most recent call last)",
      "Cell \u001b[0;32mIn[19], line 2\u001b[0m\n\u001b[1;32m      1\u001b[0m \u001b[38;5;66;03m# Connect this `apply_function` to the `step` in brax function\u001b[39;00m\n\u001b[0;32m----> 2\u001b[0m \u001b[43mdm_rodent\u001b[49m\u001b[38;5;241;43m.\u001b[39;49m\u001b[43mapply_action\u001b[49m\u001b[43m(\u001b[49m\u001b[38;5;124;43m\"\u001b[39;49m\u001b[38;5;124;43m\"\u001b[39;49m\u001b[43m,\u001b[49m\u001b[38;5;124;43m\"\u001b[39;49m\u001b[38;5;124;43m\"\u001b[39;49m\u001b[43m,\u001b[49m\u001b[38;5;124;43m\"\u001b[39;49m\u001b[38;5;124;43m\"\u001b[39;49m\u001b[43m)\u001b[49m\n",
      "File \u001b[0;32m~/anaconda3/envs/mujoco-mjx/lib/python3.12/site-packages/dm_control/locomotion/walkers/base.py:154\u001b[0m, in \u001b[0;36mWalker.apply_action\u001b[0;34m(***failed resolving arguments***)\u001b[0m\n\u001b[1;32m    152\u001b[0m \u001b[38;5;250m\u001b[39m\u001b[38;5;124;03m\"\"\"Apply action to walker's actuators.\"\"\"\u001b[39;00m\n\u001b[1;32m    153\u001b[0m \u001b[38;5;28;01mdel\u001b[39;00m random_state\n\u001b[0;32m--> 154\u001b[0m \u001b[43mphysics\u001b[49m\u001b[38;5;241;43m.\u001b[39;49m\u001b[43mbind\u001b[49m(\u001b[38;5;28mself\u001b[39m\u001b[38;5;241m.\u001b[39mactuators)\u001b[38;5;241m.\u001b[39mctrl \u001b[38;5;241m=\u001b[39m action\n",
      "\u001b[0;31mAttributeError\u001b[0m: 'str' object has no attribute 'bind'"
     ]
    }
   ],
   "source": [
    "# Connect this `apply_function` to the `step` in brax function\n",
    "dm_rodent.apply_action(\"\",\"\",\"\")"
   ]
  },
  {
   "cell_type": "code",
   "execution_count": null,
   "metadata": {},
   "outputs": [],
   "source": []
  },
  {
   "cell_type": "code",
   "execution_count": null,
   "metadata": {},
   "outputs": [],
   "source": []
  },
  {
   "cell_type": "code",
   "execution_count": null,
   "metadata": {},
   "outputs": [],
   "source": []
  },
  {
   "cell_type": "code",
   "execution_count": null,
   "metadata": {},
   "outputs": [],
   "source": []
  }
 ],
 "metadata": {
  "kernelspec": {
   "display_name": "stac-mjx",
   "language": "python",
   "name": "python3"
  },
  "language_info": {
   "codemirror_mode": {
    "name": "ipython",
    "version": 3
   },
   "file_extension": ".py",
   "mimetype": "text/x-python",
   "name": "python",
   "nbconvert_exporter": "python",
   "pygments_lexer": "ipython3",
   "version": "3.12.1"
  }
 },
 "nbformat": 4,
 "nbformat_minor": 2
}
