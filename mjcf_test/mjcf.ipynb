{
 "cells": [
  {
   "cell_type": "code",
   "execution_count": 1,
   "metadata": {},
   "outputs": [],
   "source": [
    "import rodent\n",
    "from brax.io import mjcf"
   ]
  },
  {
   "cell_type": "code",
   "execution_count": 5,
   "metadata": {},
   "outputs": [
    {
     "data": {
      "text/plain": [
       "<rodent.Rat at 0x7f0f38ed8c50>"
      ]
     },
     "execution_count": 5,
     "metadata": {},
     "output_type": "execute_result"
    }
   ],
   "source": [
    "model = rodent.Rat()"
   ]
  },
  {
   "cell_type": "code",
   "execution_count": 8,
   "metadata": {},
   "outputs": [
    {
     "data": {
      "text/plain": [
       "MJCF Element: <body name=\"pelvis\" pos=\"-0.01307140919884396 3.513221433820909e-06 -0.0081209828297725325\">...</body>"
      ]
     },
     "execution_count": 8,
     "metadata": {},
     "output_type": "execute_result"
    }
   ],
   "source": [
    "model.pelvis_body"
   ]
  },
  {
   "cell_type": "markdown",
   "metadata": {},
   "source": [
    "## Debug the MJCF in brax and in dm_control\n",
    "\n",
    "- The MJCF in brax is pretty bare-bone, and only support loading the xml output form the mjcf package\n",
    "- if we want full flexibility of quick access to joints and contact, we still need to import mjcf from dm_control, which introduce a whole new sets of dependencies.\n",
    "- TODO: We can adapt the `rodent.py`'s mjcf system to brax, to allow it to interact with the brax system."
   ]
  },
  {
   "cell_type": "code",
   "execution_count": 4,
   "metadata": {},
   "outputs": [
    {
     "data": {
      "text/plain": [
       "'../models/rodent.xml'"
      ]
     },
     "execution_count": 4,
     "metadata": {},
     "output_type": "execute_result"
    }
   ],
   "source": [
    "rodent._XML_PATH"
   ]
  },
  {
   "cell_type": "code",
   "execution_count": 5,
   "metadata": {},
   "outputs": [],
   "source": [
    "import mujoco"
   ]
  },
  {
   "cell_type": "code",
   "execution_count": 6,
   "metadata": {},
   "outputs": [],
   "source": [
    "mj_model = mujoco.MjModel.from_xml_path(rodent._XML_PATH)\n",
    "mj_model.opt.solver = mujoco.mjtSolver.mjSOL_CG\n",
    "mj_model.opt.iterations = 6\n",
    "mj_model.opt.ls_iterations = 6\n",
    "sys = mjcf.load_model(mj_model)\n"
   ]
  },
  {
   "cell_type": "code",
   "execution_count": 13,
   "metadata": {},
   "outputs": [
    {
     "data": {
      "text/plain": [
       "Transform(pos=Array([[ 0.0000000e+00,  0.0000000e+00,  0.0000000e+00],\n",
       "       [ 3.0000000e-03,  0.0000000e+00, -3.0000000e-03],\n",
       "       [ 3.0000000e-03,  0.0000000e+00, -3.0000000e-03],\n",
       "       [ 3.0000000e-03,  0.0000000e+00, -3.0000000e-03],\n",
       "       [ 3.0000000e-03,  0.0000000e+00, -3.0000000e-03],\n",
       "       [ 3.0000000e-03,  0.0000000e+00, -3.0000000e-03],\n",
       "       [ 3.0000000e-03,  0.0000000e+00, -3.0000000e-03],\n",
       "       [ 0.0000000e+00,  0.0000000e+00,  0.0000000e+00],\n",
       "       [ 0.0000000e+00,  0.0000000e+00,  0.0000000e+00],\n",
       "       [ 0.0000000e+00,  0.0000000e+00,  0.0000000e+00],\n",
       "       [ 0.0000000e+00,  0.0000000e+00,  0.0000000e+00],\n",
       "       [ 0.0000000e+00,  0.0000000e+00,  0.0000000e+00],\n",
       "       [ 0.0000000e+00,  0.0000000e+00,  0.0000000e+00],\n",
       "       [ 0.0000000e+00,  0.0000000e+00,  0.0000000e+00],\n",
       "       [ 0.0000000e+00,  0.0000000e+00,  0.0000000e+00],\n",
       "       [ 4.3423204e-03,  0.0000000e+00,  3.2675175e-03],\n",
       "       [ 3.5585267e-03,  0.0000000e+00,  3.8792004e-03],\n",
       "       [ 2.8146328e-03,  0.0000000e+00,  3.5043529e-03],\n",
       "       [ 2.5360503e-03,  0.0000000e+00,  3.4235185e-03],\n",
       "       [ 2.0122482e-03,  0.0000000e+00,  2.8950637e-03],\n",
       "       [ 2.1033534e-03,  0.0000000e+00,  3.3051113e-03],\n",
       "       [ 2.6901837e-03,  0.0000000e+00,  4.7217933e-03],\n",
       "       [ 2.8864569e-03,  0.0000000e+00,  3.4454339e-03],\n",
       "       [ 2.7370420e-03,  0.0000000e+00,  2.2224172e-03],\n",
       "       [ 3.5122351e-03,  0.0000000e+00,  1.3200889e-03],\n",
       "       [ 3.9328323e-03,  0.0000000e+00,  1.9002511e-04],\n",
       "       [ 4.2794105e-03,  0.0000000e+00,  1.1022582e-05],\n",
       "       [ 4.2785653e-03,  0.0000000e+00,  5.6561744e-10],\n",
       "       [ 3.8631568e-03,  0.0000000e+00,  6.9250389e-05],\n",
       "       [ 3.5962192e-03,  0.0000000e+00, -9.8555231e-10],\n",
       "       [ 3.5962351e-03,  0.0000000e+00, -8.3123550e-11],\n",
       "       [ 3.8538170e-03,  0.0000000e+00, -1.0357444e-09],\n",
       "       [ 3.7407763e-03,  0.0000000e+00,  4.8626086e-11],\n",
       "       [-1.9345865e-04, -3.9985804e-07, -2.2968662e-04],\n",
       "       [-1.5375952e-05,  4.7972605e-07, -2.7279087e-04],\n",
       "       [ 8.1975704e-06, -4.8659020e-12, -2.5442947e-04],\n",
       "       [ 1.2951561e-05, -5.7953729e-12, -2.5387484e-04],\n",
       "       [ 2.7469840e-05, -2.2175704e-11, -2.6376930e-04],\n",
       "       [ 9.9439269e-05,  7.3323044e-08, -2.6762401e-04],\n",
       "       [ 2.7405829e-05, -4.9553780e-08, -2.1152929e-04],\n",
       "       [-2.8435836e-02,  0.0000000e+00,  0.0000000e+00],\n",
       "       [-1.8500000e-02,  0.0000000e+00,  4.0000002e-03],\n",
       "       [ 0.0000000e+00, -4.9999999e-03,  0.0000000e+00],\n",
       "       [ 0.0000000e+00,  0.0000000e+00,  0.0000000e+00],\n",
       "       [ 0.0000000e+00,  0.0000000e+00,  0.0000000e+00],\n",
       "       [ 0.0000000e+00,  0.0000000e+00,  0.0000000e+00],\n",
       "       [ 0.0000000e+00,  0.0000000e+00,  0.0000000e+00],\n",
       "       [ 0.0000000e+00,  4.9999999e-03,  0.0000000e+00],\n",
       "       [ 0.0000000e+00,  0.0000000e+00,  0.0000000e+00],\n",
       "       [ 0.0000000e+00,  0.0000000e+00,  0.0000000e+00],\n",
       "       [ 0.0000000e+00,  0.0000000e+00,  0.0000000e+00],\n",
       "       [ 0.0000000e+00,  0.0000000e+00,  0.0000000e+00]], dtype=float32), rot=Array([[1., 0., 0., 0.],\n",
       "       [1., 0., 0., 0.],\n",
       "       [1., 0., 0., 0.],\n",
       "       [1., 0., 0., 0.],\n",
       "       [1., 0., 0., 0.],\n",
       "       [1., 0., 0., 0.],\n",
       "       [1., 0., 0., 0.],\n",
       "       [1., 0., 0., 0.],\n",
       "       [1., 0., 0., 0.],\n",
       "       [1., 0., 0., 0.],\n",
       "       [1., 0., 0., 0.],\n",
       "       [1., 0., 0., 0.],\n",
       "       [1., 0., 0., 0.],\n",
       "       [1., 0., 0., 0.],\n",
       "       [1., 0., 0., 0.],\n",
       "       [1., 0., 0., 0.],\n",
       "       [1., 0., 0., 0.],\n",
       "       [1., 0., 0., 0.],\n",
       "       [1., 0., 0., 0.],\n",
       "       [1., 0., 0., 0.],\n",
       "       [1., 0., 0., 0.],\n",
       "       [1., 0., 0., 0.],\n",
       "       [1., 0., 0., 0.],\n",
       "       [1., 0., 0., 0.],\n",
       "       [1., 0., 0., 0.],\n",
       "       [1., 0., 0., 0.],\n",
       "       [1., 0., 0., 0.],\n",
       "       [1., 0., 0., 0.],\n",
       "       [1., 0., 0., 0.],\n",
       "       [1., 0., 0., 0.],\n",
       "       [1., 0., 0., 0.],\n",
       "       [1., 0., 0., 0.],\n",
       "       [1., 0., 0., 0.],\n",
       "       [1., 0., 0., 0.],\n",
       "       [1., 0., 0., 0.],\n",
       "       [1., 0., 0., 0.],\n",
       "       [1., 0., 0., 0.],\n",
       "       [1., 0., 0., 0.],\n",
       "       [1., 0., 0., 0.],\n",
       "       [1., 0., 0., 0.],\n",
       "       [1., 0., 0., 0.],\n",
       "       [1., 0., 0., 0.],\n",
       "       [1., 0., 0., 0.],\n",
       "       [1., 0., 0., 0.],\n",
       "       [1., 0., 0., 0.],\n",
       "       [1., 0., 0., 0.],\n",
       "       [1., 0., 0., 0.],\n",
       "       [1., 0., 0., 0.],\n",
       "       [1., 0., 0., 0.],\n",
       "       [1., 0., 0., 0.],\n",
       "       [1., 0., 0., 0.],\n",
       "       [1., 0., 0., 0.],\n",
       "       [1., 0., 0., 0.],\n",
       "       [1., 0., 0., 0.],\n",
       "       [1., 0., 0., 0.],\n",
       "       [1., 0., 0., 0.],\n",
       "       [1., 0., 0., 0.],\n",
       "       [1., 0., 0., 0.],\n",
       "       [1., 0., 0., 0.],\n",
       "       [1., 0., 0., 0.],\n",
       "       [1., 0., 0., 0.],\n",
       "       [1., 0., 0., 0.],\n",
       "       [1., 0., 0., 0.],\n",
       "       [1., 0., 0., 0.],\n",
       "       [1., 0., 0., 0.]], dtype=float32))"
      ]
     },
     "execution_count": 13,
     "metadata": {},
     "output_type": "execute_result"
    }
   ],
   "source": [
    "sys.link.joint"
   ]
  },
  {
   "cell_type": "code",
   "execution_count": 10,
   "metadata": {},
   "outputs": [
    {
     "data": {
      "text/plain": [
       "b'rat\\x00world\\x00torso\\x00vertebra_1\\x00vertebra_2\\x00vertebra_3\\x00vertebra_4\\x00vertebra_5\\x00vertebra_6\\x00pelvis\\x00upper_leg_L\\x00lower_leg_L\\x00foot_L\\x00toe_L\\x00upper_leg_R\\x00lower_leg_R\\x00foot_R\\x00toe_R\\x00vertebra_C1\\x00vertebra_C2\\x00vertebra_C3\\x00vertebra_C4\\x00vertebra_C5\\x00vertebra_C6\\x00vertebra_C7\\x00vertebra_C8\\x00vertebra_C9\\x00vertebra_C10\\x00vertebra_C11\\x00vertebra_C12\\x00vertebra_C13\\x00vertebra_C14\\x00vertebra_C15\\x00vertebra_C16\\x00vertebra_C17\\x00vertebra_C18\\x00vertebra_C19\\x00vertebra_C20\\x00vertebra_C21\\x00vertebra_C22\\x00vertebra_C23\\x00vertebra_C24\\x00vertebra_C25\\x00vertebra_C26\\x00vertebra_C27\\x00vertebra_C28\\x00vertebra_C29\\x00vertebra_C30\\x00vertebra_cervical_5\\x00vertebra_cervical_4\\x00vertebra_cervical_3\\x00vertebra_cervical_2\\x00vertebra_cervical_1\\x00vertebra_axis\\x00vertebra_atlant\\x00skull\\x00jaw\\x00scapula_L\\x00upper_arm_L\\x00lower_arm_L\\x00hand_L\\x00finger_L\\x00scapula_R\\x00upper_arm_R\\x00lower_arm_R\\x00hand_R\\x00finger_R\\x00root\\x00vertebra_1_extend\\x00vertebra_2_bend\\x00vertebra_3_twist\\x00vertebra_4_extend\\x00vertebra_5_bend\\x00vertebra_6_twist\\x00hip_L_supinate\\x00hip_L_abduct\\x00hip_L_extend\\x00knee_L\\x00ankle_L\\x00toe_L\\x00hip_R_supinate\\x00hip_R_abduct\\x00hip_R_extend\\x00knee_R\\x00ankle_R\\x00toe_R\\x00vertebra_C1_extend\\x00vertebra_C1_bend\\x00vertebra_C2_extend\\x00vertebra_C2_bend\\x00vertebra_C3_extend\\x00vertebra_C3_bend\\x00vertebra_C4_extend\\x00vertebra_C4_bend\\x00vertebra_C5_extend\\x00vertebra_C5_bend\\x00vertebra_C6_extend\\x00vertebra_C6_bend\\x00vertebra_C7_extend\\x00vertebra_C9_bend\\x00vertebra_C11_extend\\x00vertebra_C13_bend\\x00vertebra_C15_extend\\x00vertebra_C17_bend\\x00vertebra_C19_extend\\x00vertebra_C21_bend\\x00vertebra_C23_extend\\x00vertebra_C25_bend\\x00vertebra_C27_extend\\x00vertebra_C29_bend\\x00vertebra_cervical_5_extend\\x00vertebra_cervical_4_bend\\x00vertebra_cervical_3_twist\\x00vertebra_cervical_2_extend\\x00vertebra_cervical_1_bend\\x00vertebra_axis_twist\\x00vertebra_atlant_extend\\x00atlas\\x00mandible\\x00scapula_L_supinate\\x00scapula_L_abduct\\x00scapula_L_extend\\x00shoulder_L\\x00shoulder_sup_L\\x00elbow_L\\x00wrist_L\\x00finger_L\\x00scapula_R_supinate\\x00scapula_R_abduct\\x00scapula_R_extend\\x00shoulder_R\\x00shoulder_sup_R\\x00elbow_R\\x00wrist_R\\x00finger_R\\x00floor\\x00collision_torso\\x00vertebra_1_collision\\x00vertebra_2_collision\\x00vertebra_3_collision\\x00vertebra_4_collision\\x00vertebra_5_collision\\x00vertebra_6_collision\\x00collision_pelvis_L\\x00collision_pelvis_R\\x00collision_pelvis_gut\\x00upper_leg_L0_collision\\x00lower_leg_L_collision\\x00foot_L_collision\\x00toe_L0_collision\\x00toe_L1_collision\\x00toe_L2_collision\\x00upper_leg_R0_collision\\x00lower_leg_R_collision\\x00foot_R_collision\\x00toe_R0_collision\\x00toe_R1_collision\\x00toe_R2_collision\\x00vertebra_C1_collision\\x00vertebra_C2_collision\\x00vertebra_C3_collision\\x00vertebra_C4_collision\\x00vertebra_C5_collision\\x00vertebra_C6_collision\\x00vertebra_C7_collision\\x00vertebra_C8_collision\\x00vertebra_C9_collision\\x00vertebra_C10_collision\\x00vertebra_C11_collision\\x00vertebra_C12_collision\\x00vertebra_C13_collision\\x00vertebra_C14_collision\\x00vertebra_C15_collision\\x00vertebra_C16_collision\\x00vertebra_C17_collision\\x00vertebra_C18_collision\\x00vertebra_C19_collision\\x00vertebra_C20_collision\\x00vertebra_C21_collision\\x00vertebra_C22_collision\\x00vertebra_C23_collision\\x00vertebra_C24_collision\\x00vertebra_C25_collision\\x00vertebra_C26_collision\\x00vertebra_C27_collision\\x00vertebra_C28_collision\\x00vertebra_C29_collision\\x00vertebra_C30_collision\\x00vertebra_cervical_5_collision\\x00vertebra_cervical_4_collision\\x00vertebra_cervical_3_collision\\x00vertebra_cervical_2_collision\\x00vertebra_cervical_1_collision\\x00vertebra_axis_collision\\x00vertebra_atlant_collision\\x00skull_0_collision\\x00skull_0b_collision\\x00skull_F_collision\\x00skull_Fb_collision\\x00skull_L_collision\\x00eye_L_collision\\x00skull_R_collision\\x00eye_R_collision\\x00skull_P0_collision\\x00skull_P1_collision\\x00skull_P2_collision\\x00skull_T0_collision\\x00skull_T1_collision\\x00skull_T2_collision\\x00jaw_back_collision\\x00jaw_F_collision\\x00jaw_L_collision\\x00jaw_R_collision\\x00jaw_T0_collision\\x00jaw_T1_collision\\x00jaw_T2_collision\\x00jaw_P0_collision\\x00jaw_P1_collision\\x00jaw_P2_collision\\x00jaw_P3_collision\\x00scapula_L_collision\\x00humerus_L_collision\\x00radius_L_collision\\x00ulna_L_collision\\x00hand_L_collision\\x00finger_L0_collision\\x00finger_L1_collision\\x00finger_L2_collision\\x00scapula_R_collision\\x00humerus_R_collision\\x00radius_R_collision\\x00ulna_R_collision\\x00hand_R_collision\\x00finger_R0_collision\\x00finger_R1_collision\\x00finger_R2_collision\\x00tracking[torso]\\x00tracking[vertebra_1]\\x00tracking[vertebra_2]\\x00tracking[vertebra_3]\\x00tracking[vertebra_4]\\x00tracking[vertebra_5]\\x00tracking[vertebra_6]\\x00tracking[pelvis]\\x00hip_L\\x00hip_R\\x00tracking[upper_leg_L]\\x00knee_L\\x00tracking[lower_leg_L]\\x00ankle_L\\x00tracking[foot_L]\\x00toe_L\\x00tracking[toe_L]\\x00sole_L\\x00tracking[upper_leg_R]\\x00knee_R\\x00tracking[lower_leg_R]\\x00ankle_R\\x00tracking[foot_R]\\x00toe_R\\x00tracking[toe_R]\\x00sole_R\\x00tracking[vertebra_C1]\\x00tracking[vertebra_C2]\\x00tracking[vertebra_C3]\\x00tracking[vertebra_C4]\\x00tracking[vertebra_C5]\\x00tracking[vertebra_C6]\\x00tracking[vertebra_C7]\\x00tracking[vertebra_C8]\\x00tracking[vertebra_C9]\\x00tracking[vertebra_C10]\\x00tracking[vertebra_C11]\\x00tracking[vertebra_C12]\\x00tracking[vertebra_C13]\\x00tracking[vertebra_C14]\\x00tracking[vertebra_C15]\\x00tracking[vertebra_C16]\\x00tracking[vertebra_C17]\\x00tracking[vertebra_C18]\\x00tracking[vertebra_C19]\\x00tracking[vertebra_C20]\\x00tracking[vertebra_C21]\\x00tracking[vertebra_C22]\\x00tracking[vertebra_C23]\\x00tracking[vertebra_C24]\\x00tracking[vertebra_C25]\\x00tracking[vertebra_C26]\\x00tracking[vertebra_C27]\\x00tracking[vertebra_C28]\\x00tracking[vertebra_C29]\\x00tracking[vertebra_C30]\\x00tracking[vertebra_cervical_5]\\x00tracking[vertebra_cervical_4]\\x00tracking[vertebra_cervical_3]\\x00tracking[vertebra_cervical_2]\\x00tracking[vertebra_cervical_1]\\x00tracking[vertebra_axis]\\x00tracking[vertebra_atlant]\\x00tracking[skull]\\x00head\\x00tracking[jaw]\\x00tracking[scapula_L]\\x00shoulder_L\\x00tracking[upper_arm_L]\\x00elbow_L\\x00tracking[lower_arm_L]\\x00wrist_L\\x00tracking[hand_L]\\x00finger_L\\x00tracking[finger_L]\\x00palm_L\\x00tracking[scapula_R]\\x00shoulder_R\\x00tracking[upper_arm_R]\\x00elbow_R\\x00tracking[lower_arm_R]\\x00wrist_R\\x00tracking[hand_R]\\x00finger_R\\x00palm_R\\x00tracking[finger_R]\\x00back\\x00side\\x00side_alt\\x00top\\x00egocentric\\x00tracking_light\\x00skin\\x00\\x00body\\x00grid\\x00body\\x00grid\\x00\\x00\\x00\\x00\\x00upper_arm_L:torso\\x00upper_arm_R:torso\\x00lower_leg_L:pelvis\\x00lower_leg_R:pelvis\\x00pelvis:vertebra_C2\\x00pelvis:vertebra_C3\\x00pelvis:vertebra_C4\\x00pelvis:vertebra_C5\\x00pelvis:vertebra_C6\\x00upper_leg_L:vertebra_C1\\x00upper_leg_L:vertebra_C2\\x00upper_leg_R:vertebra_C1\\x00upper_leg_R:vertebra_C2\\x00vertebra_C1:vertebra_C3\\x00vertebra_C1:vertebra_C4\\x00vertebra_C2:vertebra_C4\\x00vertebra_C2:vertebra_C5\\x00vertebra_C3:vertebra_C5\\x00vertebra_C3:vertebra_C6\\x00vertebra_C4:vertebra_C6\\x00vertebra_C4:vertebra_C7\\x00vertebra_C5:vertebra_C7\\x00vertebra_cervical_2:skull\\x00vertebra_cervical_1:skull\\x00vertebra_axis:skull\\x00upper_arm_L:upper_arm_R\\x00hip_L_supinate\\x00hip_L_abduct\\x00hip_L_extend\\x00knee_L\\x00ankle_L\\x00toe_L\\x00hip_R_supinate\\x00hip_R_abduct\\x00hip_R_extend\\x00knee_R\\x00ankle_R\\x00toe_R\\x00atlas\\x00mandible\\x00scapula_L_supinate\\x00scapula_L_abduct\\x00scapula_L_extend\\x00shoulder_L\\x00shoulder_sup_L\\x00elbow_L\\x00wrist_L\\x00finger_L\\x00scapula_R_supinate\\x00scapula_R_abduct\\x00scapula_R_extend\\x00shoulder_R\\x00shoulder_sup_R\\x00elbow_R\\x00wrist_R\\x00finger_R\\x00'"
      ]
     },
     "execution_count": 10,
     "metadata": {},
     "output_type": "execute_result"
    }
   ],
   "source": []
  },
  {
   "cell_type": "code",
   "execution_count": 6,
   "metadata": {},
   "outputs": [
    {
     "ename": "AttributeError",
     "evalue": "'Rat' object has no attribute '_mjcf_root'",
     "output_type": "error",
     "traceback": [
      "\u001b[0;31m---------------------------------------------------------------------------\u001b[0m",
      "\u001b[0;31mAttributeError\u001b[0m                            Traceback (most recent call last)",
      "Cell \u001b[0;32mIn[6], line 1\u001b[0m\n\u001b[0;32m----> 1\u001b[0m \u001b[43mmodel\u001b[49m\u001b[38;5;241;43m.\u001b[39;49m\u001b[43mmjcf_model\u001b[49m\n",
      "File \u001b[0;32m~/Desktop/Salk-Research/Brax-Rodent-Run/mjcf_test/rodent.py:95\u001b[0m, in \u001b[0;36mRat.mjcf_model\u001b[0;34m(self)\u001b[0m\n\u001b[1;32m     92\u001b[0m \u001b[38;5;129m@property\u001b[39m\n\u001b[1;32m     93\u001b[0m \u001b[38;5;28;01mdef\u001b[39;00m \u001b[38;5;21mmjcf_model\u001b[39m(\u001b[38;5;28mself\u001b[39m):\n\u001b[1;32m     94\u001b[0m \u001b[38;5;250m  \u001b[39m\u001b[38;5;124;03m\"\"\"Return the model root.\"\"\"\u001b[39;00m\n\u001b[0;32m---> 95\u001b[0m   \u001b[38;5;28;01mreturn\u001b[39;00m \u001b[38;5;28;43mself\u001b[39;49m\u001b[38;5;241;43m.\u001b[39;49m\u001b[43m_mjcf_root\u001b[49m\n",
      "\u001b[0;31mAttributeError\u001b[0m: 'Rat' object has no attribute '_mjcf_root'"
     ]
    }
   ],
   "source": [
    "model.mjcf_model"
   ]
  }
 ],
 "metadata": {
  "kernelspec": {
   "display_name": "stac-mjx",
   "language": "python",
   "name": "python3"
  },
  "language_info": {
   "codemirror_mode": {
    "name": "ipython",
    "version": 3
   },
   "file_extension": ".py",
   "mimetype": "text/x-python",
   "name": "python",
   "nbconvert_exporter": "python",
   "pygments_lexer": "ipython3",
   "version": "3.12.1"
  }
 },
 "nbformat": 4,
 "nbformat_minor": 2
}
